{
 "cells": [
  {
   "cell_type": "markdown",
   "metadata": {},
   "source": [
    "# 1: Градиентный бустинг"
   ]
  },
  {
   "cell_type": "code",
   "execution_count": 1,
   "metadata": {},
   "outputs": [],
   "source": [
    "import pandas as pd\n",
    "import numpy as np\n",
    "import matplotlib.pyplot as plt\n",
    "import time\n",
    "import datetime\n",
    "from sklearn import ensemble\n",
    "from sklearn.metrics import roc_auc_score\n",
    "from sklearn.model_selection import KFold\n",
    "from sklearn.linear_model import LogisticRegression\n",
    "from sklearn.ensemble import GradientBoostingClassifier\n",
    "from sklearn.preprocessing import StandardScaler"
   ]
  },
  {
   "cell_type": "markdown",
   "metadata": {},
   "source": [
    "1.1) Считайте таблицу с признаками из файла features.csv с помощью кода, приведенного выше. Удалите признаки, связанные с итогами матча (они помечены в описании данных как отсутствующие в тестовой выборке)."
   ]
  },
  {
   "cell_type": "code",
   "execution_count": 2,
   "metadata": {},
   "outputs": [
    {
     "data": {
      "text/html": [
       "<div>\n",
       "<style scoped>\n",
       "    .dataframe tbody tr th:only-of-type {\n",
       "        vertical-align: middle;\n",
       "    }\n",
       "\n",
       "    .dataframe tbody tr th {\n",
       "        vertical-align: top;\n",
       "    }\n",
       "\n",
       "    .dataframe thead th {\n",
       "        text-align: right;\n",
       "    }\n",
       "</style>\n",
       "<table border=\"1\" class=\"dataframe\">\n",
       "  <thead>\n",
       "    <tr style=\"text-align: right;\">\n",
       "      <th></th>\n",
       "      <th>start_time</th>\n",
       "      <th>lobby_type</th>\n",
       "      <th>r1_hero</th>\n",
       "      <th>r1_level</th>\n",
       "      <th>r1_xp</th>\n",
       "      <th>r1_gold</th>\n",
       "      <th>r1_lh</th>\n",
       "      <th>r1_kills</th>\n",
       "      <th>r1_deaths</th>\n",
       "      <th>r1_items</th>\n",
       "      <th>...</th>\n",
       "      <th>radiant_ward_sentry_count</th>\n",
       "      <th>radiant_first_ward_time</th>\n",
       "      <th>dire_bottle_time</th>\n",
       "      <th>dire_courier_time</th>\n",
       "      <th>dire_flying_courier_time</th>\n",
       "      <th>dire_tpscroll_count</th>\n",
       "      <th>dire_boots_count</th>\n",
       "      <th>dire_ward_observer_count</th>\n",
       "      <th>dire_ward_sentry_count</th>\n",
       "      <th>dire_first_ward_time</th>\n",
       "    </tr>\n",
       "  </thead>\n",
       "  <tbody>\n",
       "    <tr>\n",
       "      <th>0</th>\n",
       "      <td>1430198770</td>\n",
       "      <td>7</td>\n",
       "      <td>11</td>\n",
       "      <td>5</td>\n",
       "      <td>2098</td>\n",
       "      <td>1489</td>\n",
       "      <td>20</td>\n",
       "      <td>0</td>\n",
       "      <td>0</td>\n",
       "      <td>7</td>\n",
       "      <td>...</td>\n",
       "      <td>0</td>\n",
       "      <td>35.0</td>\n",
       "      <td>103.0</td>\n",
       "      <td>-84.0</td>\n",
       "      <td>221.0</td>\n",
       "      <td>3</td>\n",
       "      <td>4</td>\n",
       "      <td>2</td>\n",
       "      <td>2</td>\n",
       "      <td>-52.0</td>\n",
       "    </tr>\n",
       "    <tr>\n",
       "      <th>1</th>\n",
       "      <td>1430220345</td>\n",
       "      <td>0</td>\n",
       "      <td>42</td>\n",
       "      <td>4</td>\n",
       "      <td>1188</td>\n",
       "      <td>1033</td>\n",
       "      <td>9</td>\n",
       "      <td>0</td>\n",
       "      <td>1</td>\n",
       "      <td>12</td>\n",
       "      <td>...</td>\n",
       "      <td>0</td>\n",
       "      <td>-20.0</td>\n",
       "      <td>149.0</td>\n",
       "      <td>-84.0</td>\n",
       "      <td>195.0</td>\n",
       "      <td>5</td>\n",
       "      <td>4</td>\n",
       "      <td>3</td>\n",
       "      <td>1</td>\n",
       "      <td>-5.0</td>\n",
       "    </tr>\n",
       "    <tr>\n",
       "      <th>2</th>\n",
       "      <td>1430227081</td>\n",
       "      <td>7</td>\n",
       "      <td>33</td>\n",
       "      <td>4</td>\n",
       "      <td>1319</td>\n",
       "      <td>1270</td>\n",
       "      <td>22</td>\n",
       "      <td>0</td>\n",
       "      <td>0</td>\n",
       "      <td>12</td>\n",
       "      <td>...</td>\n",
       "      <td>1</td>\n",
       "      <td>-39.0</td>\n",
       "      <td>45.0</td>\n",
       "      <td>-77.0</td>\n",
       "      <td>221.0</td>\n",
       "      <td>3</td>\n",
       "      <td>4</td>\n",
       "      <td>3</td>\n",
       "      <td>1</td>\n",
       "      <td>13.0</td>\n",
       "    </tr>\n",
       "    <tr>\n",
       "      <th>3</th>\n",
       "      <td>1430263531</td>\n",
       "      <td>1</td>\n",
       "      <td>29</td>\n",
       "      <td>4</td>\n",
       "      <td>1779</td>\n",
       "      <td>1056</td>\n",
       "      <td>14</td>\n",
       "      <td>0</td>\n",
       "      <td>0</td>\n",
       "      <td>5</td>\n",
       "      <td>...</td>\n",
       "      <td>0</td>\n",
       "      <td>-30.0</td>\n",
       "      <td>124.0</td>\n",
       "      <td>-80.0</td>\n",
       "      <td>184.0</td>\n",
       "      <td>0</td>\n",
       "      <td>4</td>\n",
       "      <td>2</td>\n",
       "      <td>0</td>\n",
       "      <td>27.0</td>\n",
       "    </tr>\n",
       "    <tr>\n",
       "      <th>4</th>\n",
       "      <td>1430282290</td>\n",
       "      <td>7</td>\n",
       "      <td>13</td>\n",
       "      <td>4</td>\n",
       "      <td>1431</td>\n",
       "      <td>1090</td>\n",
       "      <td>8</td>\n",
       "      <td>1</td>\n",
       "      <td>0</td>\n",
       "      <td>8</td>\n",
       "      <td>...</td>\n",
       "      <td>0</td>\n",
       "      <td>46.0</td>\n",
       "      <td>182.0</td>\n",
       "      <td>-80.0</td>\n",
       "      <td>225.0</td>\n",
       "      <td>6</td>\n",
       "      <td>3</td>\n",
       "      <td>3</td>\n",
       "      <td>0</td>\n",
       "      <td>-16.0</td>\n",
       "    </tr>\n",
       "  </tbody>\n",
       "</table>\n",
       "<p>5 rows × 102 columns</p>\n",
       "</div>"
      ],
      "text/plain": [
       "   start_time  lobby_type  r1_hero  r1_level  r1_xp  r1_gold  r1_lh  r1_kills  \\\n",
       "0  1430198770           7       11         5   2098     1489     20         0   \n",
       "1  1430220345           0       42         4   1188     1033      9         0   \n",
       "2  1430227081           7       33         4   1319     1270     22         0   \n",
       "3  1430263531           1       29         4   1779     1056     14         0   \n",
       "4  1430282290           7       13         4   1431     1090      8         1   \n",
       "\n",
       "   r1_deaths  r1_items          ...           radiant_ward_sentry_count  \\\n",
       "0          0         7          ...                                   0   \n",
       "1          1        12          ...                                   0   \n",
       "2          0        12          ...                                   1   \n",
       "3          0         5          ...                                   0   \n",
       "4          0         8          ...                                   0   \n",
       "\n",
       "   radiant_first_ward_time  dire_bottle_time  dire_courier_time  \\\n",
       "0                     35.0             103.0              -84.0   \n",
       "1                    -20.0             149.0              -84.0   \n",
       "2                    -39.0              45.0              -77.0   \n",
       "3                    -30.0             124.0              -80.0   \n",
       "4                     46.0             182.0              -80.0   \n",
       "\n",
       "   dire_flying_courier_time  dire_tpscroll_count  dire_boots_count  \\\n",
       "0                     221.0                    3                 4   \n",
       "1                     195.0                    5                 4   \n",
       "2                     221.0                    3                 4   \n",
       "3                     184.0                    0                 4   \n",
       "4                     225.0                    6                 3   \n",
       "\n",
       "   dire_ward_observer_count  dire_ward_sentry_count  dire_first_ward_time  \n",
       "0                         2                       2                 -52.0  \n",
       "1                         3                       1                  -5.0  \n",
       "2                         3                       1                  13.0  \n",
       "3                         2                       0                  27.0  \n",
       "4                         3                       0                 -16.0  \n",
       "\n",
       "[5 rows x 102 columns]"
      ]
     },
     "execution_count": 2,
     "metadata": {},
     "output_type": "execute_result"
    }
   ],
   "source": [
    "df = pd.read_csv('C:/Users/alexl/Downloads/data/features.csv', index_col='match_id')\n",
    "num_rows,num_columns = df.shape\n",
    "df.index = range(num_rows)\n",
    "X=df.drop(['duration','radiant_win','tower_status_radiant','tower_status_dire','barracks_status_radiant','barracks_status_dire'],axis=1)\n",
    "X.head()"
   ]
  },
  {
   "cell_type": "markdown",
   "metadata": {},
   "source": [
    "1.2) Проверьте выборку на наличие пропусков с помощью функции count(), которая для каждого столбца показывает число заполненных значений. Много ли пропусков в данных? Запишите названия признаков, имеющих пропуски, и попробуйте для любых двух из них дать обоснование, почему их значения могут быть пропущены."
   ]
  },
  {
   "cell_type": "code",
   "execution_count": 3,
   "metadata": {},
   "outputs": [
    {
     "name": "stdout",
     "output_type": "stream",
     "text": [
      "first_blood_time\n",
      "first_blood_team\n",
      "first_blood_player1\n",
      "first_blood_player2\n",
      "radiant_bottle_time\n",
      "radiant_courier_time\n",
      "radiant_flying_courier_time\n",
      "radiant_first_ward_time\n",
      "dire_bottle_time\n",
      "dire_courier_time\n",
      "dire_flying_courier_time\n",
      "dire_first_ward_time\n"
     ]
    }
   ],
   "source": [
    "for i in X.columns:\n",
    "    if(X[i].count()!=num_rows):\n",
    "        print(i)"
   ]
  },
  {
   "cell_type": "markdown",
   "metadata": {},
   "source": [
    "1.3) Замените пропуски на нули с помощью функции fillna(). На самом деле этот способ является предпочтительным для логистической регрессии, поскольку он позволит пропущенному значению не вносить никакого вклада в предсказание. Для деревьев часто лучшим вариантом оказывается замена пропуска на очень большое или очень маленькое значение — в этом случае при построении разбиения вершины можно будет отправить объекты с пропусками в отдельную ветвь дерева. Также есть и другие подходы — например, замена пропуска на среднее значение признака. Мы не требуем этого в задании, но при желании попробуйте разные подходы к обработке пропусков и сравните их между собой"
   ]
  },
  {
   "cell_type": "code",
   "execution_count": 4,
   "metadata": {},
   "outputs": [],
   "source": [
    "X=X.fillna(0)"
   ]
  },
  {
   "cell_type": "markdown",
   "metadata": {},
   "source": [
    "1.4) Какой столбец содержит целевую переменную? Запишите его название."
   ]
  },
  {
   "cell_type": "code",
   "execution_count": 5,
   "metadata": {},
   "outputs": [],
   "source": [
    "y=df['radiant_win']"
   ]
  },
  {
   "cell_type": "markdown",
   "metadata": {},
   "source": [
    "1.5) Забудем, что в выборке есть категориальные признаки, и попробуем обучить градиентный бустинг над деревьями на имеющейся матрице \"объекты-признаки\". Зафиксируйте генератор разбиений для кросс-валидации по 5 блокам (KFold), не забудьте перемешать при этом выборку (shuffle=True), поскольку данные в таблице отсортированы по времени, и без перемешивания можно столкнуться с нежелательными эффектами при оценивании качества. Оцените качество градиентного бустинга (GradientBoostingClassifier) с помощью данной кросс-валидации, попробуйте при этом разное количество деревьев (как минимум протестируйте следующие значения для количества деревьев: 10, 20, 30). Долго ли настраивались классификаторы? Достигнут ли оптимум на испытанных значениях параметра n_estimators, или же качество, скорее всего, продолжит расти при дальнейшем его увеличении?"
   ]
  },
  {
   "cell_type": "code",
   "execution_count": 6,
   "metadata": {
    "scrolled": true
   },
   "outputs": [
    {
     "name": "stdout",
     "output_type": "stream",
     "text": [
      "Number of trees 10\n",
      "[0.6611268458685011, 0.6680770916317138, 0.6653264049944428, 0.666213544237299, 0.6678293531652151]\n",
      "Time elapsed: 0:00:37.341088\n",
      "Number of trees 20\n",
      "[0.6781733160032577, 0.6793497097828307, 0.6948299203527182, 0.6789374794997068, 0.6805053988547743]\n",
      "Time elapsed: 0:01:06.813018\n",
      "Number of trees 30\n",
      "[0.6938192155621967, 0.6926381830123571, 0.682147833506926, 0.6926650094993454, 0.6880810623663258]\n",
      "Time elapsed: 0:01:20.387011\n",
      "Number of trees 40\n",
      "[0.6972056958242862, 0.6965384446921814, 0.69090962658868, 0.6948460460611163, 0.6923442293370646]\n",
      "Time elapsed: 0:01:33.771320\n",
      "Number of trees 50\n",
      "[0.6981342417060106, 0.6958481507411937, 0.7035890056246328, 0.6935669530133906, 0.695408905857226]\n",
      "Time elapsed: 0:01:38.630552\n",
      "Number of trees 60\n",
      "[0.6973459715027475, 0.7025031653667263, 0.7039430947315017, 0.6985646835227884, 0.6961932563320014]\n",
      "Time elapsed: 0:01:57.996522\n",
      "Number of trees 70\n",
      "[0.7102138564290773, 0.690782341043302, 0.7064036375334273, 0.7023831528495292, 0.7018639322133908]\n",
      "Time elapsed: 0:02:17.504484\n",
      "Number of trees 80\n",
      "[0.7021032106996878, 0.6990125021598405, 0.7025493629559906, 0.7105037136616335, 0.7037837325292803]\n",
      "Time elapsed: 0:03:07.656593\n",
      "Number of trees 90\n",
      "[0.7058736539267275, 0.7009727585059135, 0.7095888723285503, 0.7017733289221137, 0.7080023079491584]\n",
      "Time elapsed: 0:04:09.347624\n",
      "[0.6657146479794342, 0.6823591648986576, 0.6898702607894303, 0.6943688085006657, 0.6973094513884908, 0.699710034291153, 0.7023293840137453, 0.7035905044012865, 0.7052421843264927]\n"
     ]
    }
   ],
   "source": [
    "kf = KFold(n_splits=5,shuffle=True)\n",
    "mean_score=[]\n",
    "for i in range(10,100,10):\n",
    "    score=[]\n",
    "    clf = ensemble.GradientBoostingClassifier(n_estimators=i)\n",
    "    start_time = datetime.datetime.now()\n",
    "    for train, test in kf.split(X, y):\n",
    "        clf.fit(X.iloc[train], y.iloc[train])\n",
    "        pred = clf.predict_proba(X.iloc[test])[:, 1]\n",
    "        score.append(roc_auc_score(y.iloc[test], pred))\n",
    "    mean_score.append(np.mean(score))\n",
    "    print('Number of trees', i)\n",
    "    print(score)\n",
    "    print ('Time elapsed:', datetime.datetime.now() - start_time)\n",
    "print(mean_score)"
   ]
  },
  {
   "cell_type": "code",
   "execution_count": 7,
   "metadata": {},
   "outputs": [
    {
     "data": {
      "image/png": "[encoded data removed]",
      "text/plain": [
       "<Figure size 432x288 with 1 Axes>"
      ]
     },
     "metadata": {
      "needs_background": "light"
     },
     "output_type": "display_data"
    }
   ],
   "source": [
    "plt.plot(range(10,100,10),mean_score)\n",
    "plt.xlabel('Number of trees')\n",
    "plt.ylabel('Score')\n",
    "plt.show()"
   ]
  },
  {
   "cell_type": "markdown",
   "metadata": {},
   "source": [
    "# Отчет:\n",
    "\n",
    "#### 1) Какие признаки имеют пропуски среди своих значений? Что могут означать пропуски в этих признаках (ответьте на этот вопрос для двух любых признаков)?\n",
    "\n",
    "Признаки first_blood_time, first_blood_team, first_blood_player1, first_blood_player2 могут быть пропущены, если первая кровь так и не пролилась в первые 5 минут матча. Признаки radiant_bottle_time и dire_bottle_time могут быть пропущены, если команда не купила предмет \"bottle\" в первые 5 минут. Признаки radiant_courier_time, radiant_flying_courier_time, dire_courier_time, dire_flying_courier_time могут быть пропущены, если команда света/тьмы не купила курьера/летающего курьера в первые 5 минут. Признаки dire_first_ward_time и radiant_first_ward_time могут быть пропущены, если соответствующая команда не поставила вард в первые 5 минут.\n",
    "\n",
    "#### 2) Как называется столбец, содержащий целевую переменную?\n",
    "\n",
    "radiant_win - победа сил света\n",
    "\n",
    "#### 3) Как долго проводилась кросс-валидация для градиентного бустинга с 30 деревьями? Инструкцию по измерению времени можно найти ниже по тексту. Какое качество при этом получилось? Напомним, что в данном задании мы используем метрику качества AUC-ROC.\n",
    "\n",
    "Время выполнения на 30 деревьях по 5 блокам: 0:01:14.660263 AUC-ROC оценка при этом: 0.6897973787535268\n",
    "\n",
    "#### 4) Имеет ли смысл использовать больше 30 деревьев в градиентном бустинге? Что бы вы предложили делать, чтобы ускорить его обучение при увеличении количества деревьев?\n",
    "\n",
    "Оценка AUC-ROC монотонно возрастает при увеличении количества деревьев, поэтому имеет смысл использовать их как можно больше. Для ускорения сходимости можно попытаться выспользоваться усечением деревьев и ограичить их глубину"
   ]
  },
  {
   "cell_type": "markdown",
   "metadata": {},
   "source": [
    "# 2: Логистическая регрессия"
   ]
  },
  {
   "cell_type": "markdown",
   "metadata": {},
   "source": [
    "2.1) Оцените качество логистической регрессии (sklearn.linear_model.LogisticRegression с L2-регуляризацией) с помощью кросс-валидации по той же схеме, которая использовалась для градиентного бустинга. Подберите при этом лучший параметр регуляризации (C). Какое наилучшее качество у вас получилось? Как оно соотносится с качеством градиентного бустинга? Чем вы можете объяснить эту разницу? Быстрее ли работает логистическая регрессия по сравнению с градиентным бустингом?"
   ]
  },
  {
   "cell_type": "code",
   "execution_count": 8,
   "metadata": {
    "scrolled": false
   },
   "outputs": [
    {
     "name": "stderr",
     "output_type": "stream",
     "text": [
      "C:\\Users\\alexl\\Anaconda3\\lib\\site-packages\\sklearn\\preprocessing\\data.py:625: DataConversionWarning: Data with input dtype int64, float64 were all converted to float64 by StandardScaler.\n",
      "  return self.partial_fit(X, y)\n",
      "C:\\Users\\alexl\\Anaconda3\\lib\\site-packages\\sklearn\\base.py:462: DataConversionWarning: Data with input dtype int64, float64 were all converted to float64 by StandardScaler.\n",
      "  return self.fit(X, **fit_params).transform(X)\n"
     ]
    },
    {
     "name": "stdout",
     "output_type": "stream",
     "text": [
      "C: 0.001\n",
      "[0.7124653122196706, 0.7157499043907493, 0.71811453596037, 0.7142714297384568, 0.7211086079835849]\n",
      "Time elapsed: 0:00:05.193883\n",
      "C: 0.01\n",
      "[0.7164948122985438, 0.7143192195316257, 0.7141406701891637, 0.7221694502158531, 0.7152630391762937]\n",
      "Time elapsed: 0:00:05.915073\n",
      "C: 0.1\n",
      "[0.7186499407706142, 0.7249170912035063, 0.7161175979011758, 0.7153836397778608, 0.7074954306619639]\n",
      "Time elapsed: 0:00:05.687109\n",
      "C: 1\n",
      "[0.7140399713142599, 0.7131047779972994, 0.7161035876647698, 0.7171233031908968, 0.7214454727778659]\n",
      "Time elapsed: 0:00:05.472144\n",
      "C: 10\n",
      "[0.7185681050960339, 0.7164741548883783, 0.7135506535624023, 0.7179328165944188, 0.7149389172473207]\n",
      "Time elapsed: 0:00:05.037211\n",
      "C: 100\n",
      "[0.7190352506249782, 0.7195178794173859, 0.7183309440561069, 0.7181043424128448, 0.7078208552065295]\n",
      "Time elapsed: 0:00:05.135195\n",
      "C: 1000\n",
      "[0.7153550016658186, 0.715057033117206, 0.7174954801699156, 0.7124564767361853, 0.7204520871541801]\n",
      "Time elapsed: 0:00:05.058209\n",
      "C: 10000\n",
      "[0.712212953662209, 0.716530411596353, 0.7147315046849896, 0.7233848483599576, 0.7149777671451191]\n",
      "Time elapsed: 0:00:04.826243\n",
      "max 0.7165618543435691 min 0.716163215768661\n"
     ]
    },
    {
     "data": {
      "image/png": "[encoded data removed]",
      "text/plain": [
       "<Figure size 432x288 with 1 Axes>"
      ]
     },
     "metadata": {
      "needs_background": "light"
     },
     "output_type": "display_data"
    }
   ],
   "source": [
    "X = pd.DataFrame(StandardScaler().fit_transform(X))\n",
    "mean_score=[]\n",
    "C_range = [0.001, 0.01, 0.1, 1, 10, 100,1000,10000]\n",
    "for i in C_range:\n",
    "    score=[]\n",
    "    start_time = datetime.datetime.now()\n",
    "    for train, test in kf.split(X, y):\n",
    "        clf = LogisticRegression(C = i,solver='lbfgs').fit(X.iloc[train], y.iloc[train])\n",
    "        pred = clf.predict_proba(X.iloc[test])[:, 1]\n",
    "        score.append(roc_auc_score(y.iloc[test], pred))\n",
    "    mean_score.append(np.mean(score))\n",
    "    print('C:', i)\n",
    "    print(score)\n",
    "    print ('Time elapsed:', datetime.datetime.now() - start_time)\n",
    "print('max', max(mean_score), 'min',min(mean_score))\n",
    "\n",
    "fig,ax = plt.subplots() \n",
    "ax.plot(mean_score,marker='o') \n",
    "ax.set_xticks([i for i in range(len(mean_score))]) \n",
    "ax.set_xticklabels(C_range) \n",
    "plt.show() "
   ]
  },
  {
   "cell_type": "markdown",
   "metadata": {},
   "source": [
    "2.2) Среди признаков в выборке есть категориальные, которые мы использовали как числовые, что вряд ли является хорошей идеей. Категориальных признаков в этой задаче одиннадцать: lobby_type и r1_hero, r2_hero, ..., r5_hero, d1_hero, d2_hero, ..., d5_hero. Уберите их из выборки, и проведите кросс-валидацию для логистической регрессии на новой выборке с подбором лучшего параметра регуляризации. Изменилось ли качество? Чем вы можете это объяснить?"
   ]
  },
  {
   "cell_type": "code",
   "execution_count": 9,
   "metadata": {},
   "outputs": [
    {
     "name": "stderr",
     "output_type": "stream",
     "text": [
      "C:\\Users\\alexl\\Anaconda3\\lib\\site-packages\\sklearn\\preprocessing\\data.py:625: DataConversionWarning: Data with input dtype int64, float64 were all converted to float64 by StandardScaler.\n",
      "  return self.partial_fit(X, y)\n",
      "C:\\Users\\alexl\\Anaconda3\\lib\\site-packages\\sklearn\\base.py:462: DataConversionWarning: Data with input dtype int64, float64 were all converted to float64 by StandardScaler.\n",
      "  return self.fit(X, **fit_params).transform(X)\n"
     ]
    },
    {
     "name": "stdout",
     "output_type": "stream",
     "text": [
      "C: 0.001\n",
      "[0.7202224796635034, 0.7205631319432471, 0.712419455839881, 0.7140548152413086, 0.7148110274744295]\n",
      "Time elapsed: 0:00:03.343476\n",
      "C: 0.01\n",
      "[0.7224999735051051, 0.717415785106641, 0.711905677721798, 0.7125796951470769, 0.717556121055006]\n",
      "Time elapsed: 0:00:05.394156\n",
      "C: 0.1\n",
      "[0.7150429375040905, 0.7169907379862575, 0.7187679919969054, 0.7134180177825584, 0.7172703988690488]\n",
      "Time elapsed: 0:00:04.886234\n",
      "C: 1\n",
      "[0.7169110274765221, 0.7155127889860319, 0.7196113033233744, 0.7161165189708474, 0.7141487007942363]\n",
      "Time elapsed: 0:00:05.524847\n",
      "C: 10\n",
      "[0.7167480890491127, 0.7184607342403851, 0.7148763488576404, 0.7125831880213487, 0.7191964247503257]\n",
      "Time elapsed: 0:00:07.021900\n",
      "C: 100\n",
      "[0.7167614982287409, 0.7167657580532144, 0.713867639175733, 0.7193996340239155, 0.7146925993155583]\n",
      "Time elapsed: 0:00:06.731946\n",
      "C: 1000\n",
      "[0.7176334004835693, 0.7194836034856608, 0.713097866954555, 0.715652831237245, 0.7162810640377222]\n",
      "Time elapsed: 0:00:06.239045\n",
      "C: 10000\n",
      "[0.719663371908389, 0.7198091730679, 0.7125621998436757, 0.7152608314636913, 0.7149441587299605]\n",
      "Time elapsed: 0:00:06.351179\n",
      "max 0.7164600679102023 min 0.7162974257594324\n"
     ]
    },
    {
     "data": {
      "image/png": "[encoded data removed]",
      "text/plain": [
       "<Figure size 432x288 with 1 Axes>"
      ]
     },
     "metadata": {
      "needs_background": "light"
     },
     "output_type": "display_data"
    }
   ],
   "source": [
    "X=df.drop(['duration','radiant_win','tower_status_radiant','tower_status_dire','barracks_status_radiant','barracks_status_dire','lobby_type','r1_hero','r2_hero','r3_hero','r4_hero','r5_hero','d1_hero','d2_hero','d3_hero','d4_hero','d5_hero'],axis=1)\n",
    "X=X.fillna(0)\n",
    "X = pd.DataFrame(StandardScaler().fit_transform(X))\n",
    "mean_score=[]\n",
    "C_range = [0.001, 0.01, 0.1, 1, 10, 100,1000,10000]\n",
    "for i in C_range:\n",
    "    score=[]\n",
    "    start_time = datetime.datetime.now()\n",
    "    for train, test in kf.split(X, y):\n",
    "        clf = LogisticRegression(C = i,solver='lbfgs').fit(X.iloc[train], y.iloc[train])\n",
    "        pred = clf.predict_proba(X.iloc[test])[:, 1]\n",
    "        score.append(roc_auc_score(y.iloc[test], pred))\n",
    "    mean_score.append(np.mean(score))\n",
    "    print('C:', i)\n",
    "    print(score)\n",
    "    print ('Time elapsed:', datetime.datetime.now() - start_time)\n",
    "print('max', max(mean_score), 'min',min(mean_score))\n",
    "\n",
    "fig,ax = plt.subplots() \n",
    "ax.plot(mean_score,marker='o') \n",
    "ax.set_xticks([i for i in range(len(mean_score))]) \n",
    "ax.set_xticklabels(C_range) \n",
    "plt.show() "
   ]
  },
  {
   "cell_type": "markdown",
   "metadata": {},
   "source": [
    "2.3) На предыдущем шаге мы исключили из выборки признаки rM_hero и dM_hero, которые показывают, какие именно герои играли за каждую команду. Это важные признаки — герои имеют разные характеристики, и некоторые из них выигрывают чаще, чем другие. Выясните из данных, сколько различных идентификаторов героев существует в данной игре (вам может пригодиться фукнция unique или value_counts)."
   ]
  },
  {
   "cell_type": "code",
   "execution_count": 10,
   "metadata": {},
   "outputs": [
    {
     "name": "stdout",
     "output_type": "stream",
     "text": [
      "112\n"
     ]
    }
   ],
   "source": [
    "heroes = pd.read_csv('C:/Users/alexl/Downloads/data/dictionaries/heroes.csv',index_col='id')\n",
    "print(len(heroes))"
   ]
  },
  {
   "cell_type": "markdown",
   "metadata": {},
   "source": [
    "2.4) Воспользуемся подходом \"мешок слов\" для кодирования информации о героях. Пусть всего в игре имеет N различных героев. Сформируем N признаков, при этом i-й будет равен нулю, если i-й герой не участвовал в матче; единице, если i-й герой играл за команду Radiant; минус единице, если i-й герой играл за команду Dire. Ниже вы можете найти код, который выполняет данной преобразование. Добавьте полученные признаки к числовым, которые вы использовали во втором пункте данного этапа."
   ]
  },
  {
   "cell_type": "code",
   "execution_count": 11,
   "metadata": {},
   "outputs": [],
   "source": [
    "X_pick = np.zeros((df.shape[0], len(heroes)))\n",
    "for i, match_id in enumerate(df.index):\n",
    "    for p in range(5):\n",
    "        X_pick[i, df.loc[match_id, 'r%d_hero' % (p+1)]-1] = 1\n",
    "        X_pick[i, df.loc[match_id, 'd%d_hero' % (p+1)]-1] = -1\n",
    "X_pick = pd.DataFrame(X_pick)\n",
    "X = pd.concat([X, X_pick], axis=1)\n",
    "X = pd.DataFrame(StandardScaler().fit_transform(X))"
   ]
  },
  {
   "cell_type": "markdown",
   "metadata": {},
   "source": [
    "2.5) Проведите кросс-валидацию для логистической регрессии на новой выборке с подбором лучшего параметра регуляризации. Какое получилось качество? Улучшилось ли оно? Чем вы можете это объяснить?"
   ]
  },
  {
   "cell_type": "code",
   "execution_count": 12,
   "metadata": {},
   "outputs": [
    {
     "name": "stdout",
     "output_type": "stream",
     "text": [
      "C: 0.001\n",
      "[0.7503832579721984, 0.7503497556459275, 0.7550233744003061, 0.7516387413774167, 0.7506592572255608]\n",
      "Time elapsed: 0:00:08.330577\n",
      "C: 0.01\n",
      "[0.7488798335911475, 0.7502939093844334, 0.7535016863117072, 0.7519098884000632, 0.7537363771143641]\n",
      "Time elapsed: 0:00:11.279235\n",
      "C: 0.1\n",
      "[0.7576023252936904, 0.7448118283525713, 0.752791766335138, 0.7533017671005622, 0.7508399848245221]\n",
      "Time elapsed: 0:00:12.062129\n",
      "C: 1\n",
      "[0.7534587174811341, 0.7499929521039823, 0.7542700316925739, 0.7526340552177748, 0.7491992359470215]\n",
      "Time elapsed: 0:00:12.528038\n",
      "C: 10\n",
      "[0.7489065478671865, 0.7513611487051757, 0.7544577885526031, 0.7490587365617879, 0.7552974696651968]\n",
      "Time elapsed: 0:00:12.454050\n",
      "C: 100\n",
      "[0.7518202139112726, 0.7510694697657387, 0.7513382013949507, 0.7516932010505266, 0.7536447160198849]\n",
      "Time elapsed: 0:00:12.398058\n",
      "C: 1000\n",
      "[0.7570007652974309, 0.7501937026950996, 0.7527066341953141, 0.7475395678362662, 0.7515952989576526]\n",
      "Time elapsed: 0:00:12.406055\n",
      "C: 10000\n",
      "[0.7503016768763786, 0.7539482920848914, 0.7481390415338821, 0.7544776166914455, 0.7511556580180633]\n",
      "Time elapsed: 0:00:12.453049\n",
      "max 0.7519131604284747 min 0.7516044570409323\n"
     ]
    },
    {
     "data": {
      "image/png": "[encoded data removed]",
      "text/plain": [
       "<Figure size 432x288 with 1 Axes>"
      ]
     },
     "metadata": {
      "needs_background": "light"
     },
     "output_type": "display_data"
    }
   ],
   "source": [
    "mean_score=[]\n",
    "C_range = [0.001, 0.01, 0.1, 1, 10, 100,1000,10000]\n",
    "for i in C_range:\n",
    "    score=[]\n",
    "    start_time = datetime.datetime.now()\n",
    "    for train, test in kf.split(X, y):\n",
    "        clf = LogisticRegression(C = i,solver='lbfgs').fit(X.iloc[train], y.iloc[train])\n",
    "        pred = clf.predict_proba(X.iloc[test])[:, 1]\n",
    "        score.append(roc_auc_score(y.iloc[test], pred))\n",
    "    mean_score.append(np.mean(score))\n",
    "    print('C:', i)\n",
    "    print(score)\n",
    "    print ('Time elapsed:', datetime.datetime.now() - start_time)\n",
    "print('max', max(mean_score), 'min',min(mean_score))\n",
    "\n",
    "\n",
    "fig,ax = plt.subplots() \n",
    "ax.plot(mean_score,marker='o') \n",
    "ax.set_xticks([i for i in range(len(mean_score))]) \n",
    "ax.set_xticklabels(C_range) \n",
    "plt.show() "
   ]
  },
  {
   "cell_type": "markdown",
   "metadata": {},
   "source": [
    "# Отчет:\n",
    "#### 1) Какое качество получилось у логистической регрессии над всеми исходными признаками? Как оно соотносится с качеством градиентного бустинга? Чем вы можете объяснить эту разницу? Быстрее ли работает логистическая регрессия по сравнению с градиентным бустингом?\n",
    "\n",
    "Логистическая регрессия работает в разы быстрее градиентного бустинга. Качество логистической регрессии на AUC-ROC кривой колеблется в районе 0.71\n",
    "\n",
    "#### 2) Как влияет на качество логистической регрессии удаление категориальных признаков (укажите новое значение метрики качества)? Чем вы можете объяснить это изменение?\n",
    "\n",
    "Удаление категориальных признаков никак не повлияло на качество модели, это может означать что их вклад в модель сравним с нулевым\n",
    "\n",
    "#### 3) Сколько различных идентификаторов героев существует в данной игре?\n",
    "\n",
    "112\n",
    "\n",
    "#### 4) Какое получилось качество при добавлении \"мешка слов\" по героям? Улучшилось ли оно по сравнению с предыдущим вариантом? Чем вы можете это объяснить?\n",
    "\n",
    "Применение \"мешка слов\" слегка улучшило модель, значение AUC-ROC возрасло до 0.75\n",
    "\n",
    "#### 5) Какое минимальное и максимальное значение прогноза на тестовой выборке получилось у лучшего из алгоритмов?\n",
    "\n",
    "Оптимальный из алгоритмов - с применением \"мешка слов\". Лучшее значение AUC-ROC = 0.7521256190907969 при C = 0.01, худшее = 0.7514800148504667 при C = 0.001"
   ]
  }
 ],
 "metadata": {
  "kernelspec": {
   "display_name": "Python 3",
   "language": "python",
   "name": "python3"
  },
  "language_info": {
   "codemirror_mode": {
    "name": "ipython",
    "version": 3
   },
   "file_extension": ".py",
   "mimetype": "text/x-python",
   "name": "python",
   "nbconvert_exporter": "python",
   "pygments_lexer": "ipython3",
   "version": "3.6.4"
  }
 },
 "nbformat": 4,
 "nbformat_minor": 2
}
