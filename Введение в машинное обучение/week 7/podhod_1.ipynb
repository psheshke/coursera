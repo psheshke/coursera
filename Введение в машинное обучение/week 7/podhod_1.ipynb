{
 "cells": [
  {
   "cell_type": "markdown",
   "metadata": {},
   "source": [
    "# Подход 1: градиентный бустинг \"в лоб\""
   ]
  },
  {
   "cell_type": "code",
   "execution_count": 1,
   "metadata": {},
   "outputs": [
    {
     "name": "stderr",
     "output_type": "stream",
     "text": [
      "/home/magzhan/anaconda3/lib/python3.6/site-packages/sklearn/cross_validation.py:41: DeprecationWarning: This module was deprecated in version 0.18 in favor of the model_selection module into which all the refactored classes and functions are moved. Also note that the interface of the new CV iterators are different from that of this module. This module will be removed in 0.20.\n",
      "  \"This module will be removed in 0.20.\", DeprecationWarning)\n"
     ]
    }
   ],
   "source": [
    "import numpy as np\n",
    "import pandas as pd\n",
    "import re\n",
    "import time\n",
    "import datetime\n",
    "from sklearn.metrics import make_scorer, roc_auc_score\n",
    "from sklearn.model_selection import KFold, cross_val_score, GridSearchCV\n",
    "from sklearn.preprocessing import StandardScaler\n",
    "from sklearn.ensemble import GradientBoostingClassifier\n",
    "from sklearn.linear_model import LogisticRegression\n",
    "import matplotlib.pyplot as plt\n",
    "from sklearn.cross_validation import KFold, cross_val_score, train_test_split\n",
    "%matplotlib inline"
   ]
  },
  {
   "cell_type": "markdown",
   "metadata": {},
   "source": [
    "## Очистка данных"
   ]
  },
  {
   "cell_type": "code",
   "execution_count": 2,
   "metadata": {},
   "outputs": [],
   "source": [
    "train = pandas.read_csv('features.csv', index_col='match_id')\n",
    "test = pandas.read_csv('features_test.csv', index_col='match_id')"
   ]
  },
  {
   "cell_type": "code",
   "execution_count": 2,
   "metadata": {},
   "outputs": [],
   "source": [
    "train.drop(['duration', 'tower_status_radiant', 'tower_status_dire', 'barracks_status_radiant', 'barracks_status_dire'], axis=1, inplace=True)\n"
   ]
  },
  {
   "cell_type": "code",
   "execution_count": 2,
   "metadata": {},
   "outputs": [],
   "source": [
    "y_train = train['radiant_win']"
   ]
  },
  {
   "cell_type": "code",
   "execution_count": 2,
   "metadata": {},
   "outputs": [],
   "source": [
    "del train['radiant_win']"
   ]
  },
  {
   "cell_type": "code",
   "execution_count": 2,
   "metadata": {},
   "outputs": [],
   "source": [
    "X_train = train.fillna(0)\n",
    "X_test = test.fillna(0)"
   ]
  },
  {
   "cell_type": "markdown",
   "metadata": {},
   "source": [
    "## Подбор количества деревьев для модели"
   ]
  },
  {
   "cell_type": "code",
   "execution_count": null,
   "metadata": {},
   "outputs": [],
   "source": [
    "cv = KFold(y_train.size, n_folds=5, shuffle=True, random_state=42)\n",
    "scores = []\n",
    "nums = [10, 15, 30, 45, 90, 210]"
   ]
  },
  {
   "cell_type": "code",
   "execution_count": 6,
   "metadata": {
    "scrolled": true
   },
   "outputs": [
    {
     "name": "stdout",
     "output_type": "stream",
     "text": [
      "Trees:  10\n",
      "Time spent: 0:00:33.216269\n",
      "[ 0.66383799  0.66635457  0.66360048  0.66529818  0.66516222]\n",
      "Trees:  15\n",
      "Time spent: 0:00:37.299180\n",
      "[ 0.67589098  0.67647457  0.67383635  0.67687101  0.67817953]\n",
      "Trees:  30\n",
      "Time spent: 0:01:12.953325\n",
      "[ 0.68892093  0.68934663  0.68712298  0.69180598  0.69283583]\n",
      "Trees:  45\n",
      "Time spent: 0:01:44.454350\n",
      "[ 0.6948171   0.69558113  0.69321138  0.69771267  0.69809312]\n",
      "Trees:  90\n",
      "Time spent: 0:03:38.971090\n",
      "[ 0.70428355  0.70489618  0.70314489  0.70636257  0.70710108]\n",
      "Trees:  210\n",
      "Time spent: 0:10:03.826197\n",
      "[ 0.71280325  0.71332323  0.71319499  0.71585593  0.71541683]\n"
     ]
    }
   ],
   "source": [
    "for n in nums:\n",
    "    print('Trees: ', str(n))\n",
    "    model = GradientBoostingClassifier(n_estimators=n, random_state=42)\n",
    "    start_time = datetime.datetime.now()\n",
    "    model_scores = cross_val_score(model, X_train, y_train, cv=cv, scoring='roc_auc')\n",
    "    print('Time spent:', datetime.datetime.now() - start_time)\n",
    "    print(model_scores)\n",
    "    scores.append(np.mean(model_scores))"
   ]
  },
  {
   "cell_type": "code",
   "execution_count": 7,
   "metadata": {},
   "outputs": [
    {
     "data": {
      "image/png": "[encoded data removed]",
      "text/plain": [
       "<matplotlib.figure.Figure at 0x7f89340ec630>"
      ]
     },
     "metadata": {},
     "output_type": "display_data"
    }
   ],
   "source": [
    "plot.plot(nums, scores)\n",
    "plot.xlabel('n_trees')\n",
    "plot.ylabel('score')\n",
    "plot.show()"
   ]
  },
  {
   "cell_type": "markdown",
   "metadata": {},
   "source": [
    "## Выводы:\n",
    "#### **Какие признаки имеют пропуски среди своих значений (приведите полный список имен этих признаков)? Что могут означать пропуски в этих признаках (ответьте на этот вопрос для двух любых признаков)?**\n",
    "\n",
    "**Пропуски**:\n",
    "* **first_blood_player1**/**first_blood_player2** (игроки причастные к событию first_blood) - в 20% случаев первой крови нет в первые 5 минут игры\n",
    "* **first_blood_time** (игровое время первой крови) - в 20% случаев первой крови нет в первые 5 минут игры\n",
    "* **first_blood_team** (команда, совершившая первую кровь) - аналогично first_blood_time, процент совпадает (20%)\n",
    "* **dire_bottle_time**/**radiant_bottle_time** (время первого приобретения командой предмета \"bottle\") - в 16% случаев команда не приобретает предмет \"bottle\" в первые 5 минут игры\n",
    "* **dire_first_ward_time**/**radiant_first_ward_time** (время установки командой первого \"наблюдателя\") - очень редкое явление, в 1% случаев команда не ставит \"наблюдателя\" в первые 5 минут игры\n",
    "* **dire_courier_time**/**radiant_courier_time** (время приобретения предмета \"courier\") - самое редкое явление, в 0.5% случаев команда не приобретает предмет \"courier\" в первые 5 минут игры\n",
    "* **dire_flying_courier_time**/**radiant_flying_courier_time** (время приобретения предмета \"flying_courier\") - в 28% случаев команда не покупает \"flying_courier\" в первые 5 минут игры\n",
    "\n",
    "#### **Как называется столбец, содержащий целевую переменную?**\n",
    "\n",
    "* **radiant_win** - победа команды radiant и проигрыш комады dire\n",
    "\n",
    "#### Как долго проводилась кросс-валидация для градиентного бустинга с 30 деревьями? Инструкцию по измерению времени можно найти выше по тексту. Какое качество при этом получилось?\n",
    "\n",
    "* Кросс-валидация для градиентного бустинга с 30 деревьями заняла  0:01:12.953325. Показатель  AUC-ROC равен 0.69.\n",
    "\n",
    "### Имеет ли смысл использовать больше 30 деревьев в градиентном бустинге? Что можно сделать, чтобы ускорить его обучение при увеличении количества деревьев?\n",
    "\n",
    "* Увеличение количества деревьев также увеличивает показатель метрики AUC-ROC. Для достижения большего качества имеет смысл использовать более 30 деревьев. Для ускорения обучения можно уменьшить глубину деревьев (параметр max_depth).\n",
    "\n"
   ]
  },
  {
   "cell_type": "code",
   "execution_count": null,
   "metadata": {},
   "outputs": [],
   "source": []
  },
  {
   "cell_type": "code",
   "execution_count": null,
   "metadata": {},
   "outputs": [],
   "source": []
  }
 ],
 "metadata": {
  "kernelspec": {
   "display_name": "Python 3",
   "language": "python",
   "name": "python3"
  },
  "language_info": {
   "codemirror_mode": {
    "name": "ipython",
    "version": 3
   },
   "file_extension": ".py",
   "mimetype": "text/x-python",
   "name": "python",
   "nbconvert_exporter": "python",
   "pygments_lexer": "ipython3",
   "version": "3.6.4"
  }
 },
 "nbformat": 4,
 "nbformat_minor": 1
}
