{
 "cells": [
  {
   "cell_type": "code",
   "execution_count": 1,
   "metadata": {},
   "outputs": [
    {
     "name": "stderr",
     "output_type": "stream",
     "text": [
      "/home/magzhan/anaconda3/lib/python3.6/site-packages/sklearn/cross_validation.py:41: DeprecationWarning: This module was deprecated in version 0.18 in favor of the model_selection module into which all the refactored classes and functions are moved. Also note that the interface of the new CV iterators are different from that of this module. This module will be removed in 0.20.\n",
      "  \"This module will be removed in 0.20.\", DeprecationWarning)\n"
     ]
    }
   ],
   "source": [
    "import numpy as np\n",
    "import pandas as pd\n",
    "import re\n",
    "import time\n",
    "import datetime\n",
    "from sklearn.metrics import make_scorer, roc_auc_score\n",
    "from sklearn.model_selection import KFold, cross_val_score, GridSearchCV\n",
    "from sklearn.preprocessing import StandardScaler\n",
    "from sklearn.ensemble import GradientBoostingClassifier\n",
    "from sklearn.linear_model import LogisticRegression\n",
    "import matplotlib.pyplot as plt\n",
    "from sklearn.cross_validation import KFold, cross_val_score, train_test_split\n",
    "%matplotlib inline"
   ]
  },
  {
   "cell_type": "markdown",
   "metadata": {},
   "source": [
    "# Подход 2: логистическая регрессия"
   ]
  },
  {
   "cell_type": "code",
   "execution_count": 2,
   "metadata": {},
   "outputs": [],
   "source": [
    "train = pandas.read_csv('features.csv', index_col='match_id')\n",
    "test = pandas.read_csv('features_test.csv', index_col='match_id')"
   ]
  },
  {
   "cell_type": "code",
   "execution_count": 2,
   "metadata": {},
   "outputs": [],
   "source": [
    "train.drop(['duration', 'tower_status_radiant', 'tower_status_dire', 'barracks_status_radiant', 'barracks_status_dire'], axis=1, inplace=True)"
   ]
  },
  {
   "cell_type": "code",
   "execution_count": 2,
   "metadata": {},
   "outputs": [],
   "source": [
    "y_train = train['radiant_win']\n",
    "del train['radiant_win']"
   ]
  },
  {
   "cell_type": "code",
   "execution_count": 2,
   "metadata": {},
   "outputs": [],
   "source": [
    "X_train = StandardScaler().fit_transform(train.fillna(0))\n",
    "X_test = test.fillna(0)"
   ]
  },
  {
   "cell_type": "markdown",
   "metadata": {},
   "source": [
    "## Подбор параметра регуляризации - C"
   ]
  },
  {
   "cell_type": "code",
   "execution_count": null,
   "metadata": {},
   "outputs": [],
   "source": [
    "cv_kf = KFold(y_train.size, n_folds=5, shuffle=True, random_state=42)\n",
    "scores = []\n",
    "C_pow_range = range(-5, 6)\n",
    "C_range = [10.0 ** i for i in C_pow_range]"
   ]
  },
  {
   "cell_type": "code",
   "execution_count": 3,
   "metadata": {
    "scrolled": true
   },
   "outputs": [
    {
     "name": "stdout",
     "output_type": "stream",
     "text": [
      "C : 1e-05\n",
      "[ 0.6931532   0.69481539  0.69571379  0.69513159  0.69699445]\n",
      "Time spent: 0:00:02.910886\n",
      "C : 0.0001\n",
      "[ 0.70956686  0.71039474  0.71170336  0.71176082  0.71336295]\n",
      "Time spent: 0:00:04.005773\n",
      "C : 0.001\n",
      "[ 0.71449541  0.71577214  0.71625974  0.71697301  0.71831738]\n",
      "Time spent: 0:00:07.929198\n",
      "C : 0.01\n",
      "[ 0.71464598  0.71617915  0.71624749  0.71735041  0.71832832]\n",
      "Time spent: 0:00:11.110598\n",
      "C : 0.1\n",
      "[ 0.71462192  0.71617479  0.71619187  0.71737596  0.7182712 ]\n",
      "Time spent: 0:00:11.426808\n",
      "C : 1.0\n",
      "[ 0.71461815  0.71617185  0.71618338  0.7173762   0.71826341]\n",
      "Time spent: 0:00:11.878522\n",
      "C : 10.0\n",
      "[ 0.71461695  0.71617179  0.71618281  0.71737669  0.7182632 ]\n",
      "Time spent: 0:00:12.246565\n",
      "C : 100.0\n",
      "[ 0.71461692  0.71617206  0.71618249  0.71737655  0.71826345]\n",
      "Time spent: 0:00:12.615890\n",
      "C : 1000.0\n",
      "[ 0.71461693  0.71617214  0.7161825   0.71737659  0.71826346]\n",
      "Time spent: 0:00:13.435010\n",
      "C : 10000.0\n",
      "[ 0.71461693  0.71617215  0.71618251  0.7173766   0.71826345]\n",
      "Time spent: 0:00:13.214060\n",
      "C : 100000.0\n",
      "[ 0.71461693  0.71617215  0.71618252  0.71737661  0.71826345]\n",
      "Time spent: 0:00:12.798389\n"
     ]
    },
    {
     "data": {
      "image/png": "[encoded data removed]",
      "text/plain": [
       "<matplotlib.figure.Figure at 0x7f984b121f28>"
      ]
     },
     "metadata": {},
     "output_type": "display_data"
    }
   ],
   "source": [
    "for C in C_range:\n",
    "    start_time = datetime.datetime.now()\n",
    "    print('C :', str(C))\n",
    "    model = LogisticRegression(C=C, random_state=42)\n",
    "    model_scores = cross_val_score(model, X_train, y_train, cv=cv_kf, scoring='roc_auc', n_jobs=-1)\n",
    "    print(model_scores)\n",
    "    print('Time spent:', datetime.datetime.now() - start_time)\n",
    "    scores.append(np.mean(model_scores))\n",
    "\n",
    "plot.plot(C_pow_range, scores)\n",
    "plot.xlabel('log(C)')\n",
    "plot.ylabel('score')\n",
    "plot.show()\n",
    "\n",
    "max_score = max(scores)\n",
    "max_score_index = scores.index(max_score)\n"
   ]
  },
  {
   "cell_type": "markdown",
   "metadata": {},
   "source": [
    "##Результаты"
   ]
  },
  {
   "cell_type": "code",
   "execution_count": 4,
   "metadata": {},
   "outputs": [
    {
     "name": "stdout",
     "output_type": "stream",
     "text": [
      "C:  0.01 score:  0.716550269726\n"
     ]
    }
   ],
   "source": [
    "print('C: ', C_range[max_score_index], 'score: ', max_score)"
   ]
  },
  {
   "cell_type": "markdown",
   "metadata": {},
   "source": [
    "Написать выводы\n"
   ]
  },
  {
   "cell_type": "markdown",
   "metadata": {},
   "source": [
    "## Удаление категориальных признаков"
   ]
  },
  {
   "cell_type": "code",
   "execution_count": 5,
   "metadata": {},
   "outputs": [
    {
     "name": "stdout",
     "output_type": "stream",
     "text": [
      "C = 1e-05\n",
      "[ 0.69301063  0.69476367  0.69562225  0.69507488  0.69702952]\n",
      "Time spent  0:00:03.375231\n",
      "C = 0.0001\n",
      "[ 0.70936502  0.71042199  0.71168956  0.71168269  0.71353648]\n",
      "Time spent  0:00:05.493974\n",
      "C = 0.001\n",
      "[ 0.71434804  0.71581532  0.71629769  0.7168852   0.71853275]\n",
      "Time spent  0:00:08.473174\n",
      "C = 0.01\n",
      "[ 0.71450425  0.71622052  0.71627999  0.71725088  0.71854131]\n",
      "Time spent  0:00:09.846193\n",
      "C = 0.1\n",
      "[ 0.71448206  0.71620992  0.71622569  0.71726917  0.71848436]\n",
      "Time spent  0:00:09.523592\n",
      "C = 1.0\n",
      "[ 0.71447768  0.71620627  0.7162209   0.71727019  0.71847678]\n",
      "Time spent  0:00:10.660736\n",
      "C = 10.0\n",
      "[ 0.71447669  0.71620645  0.71621968  0.71727123  0.71847581]\n",
      "Time spent  0:00:10.555876\n",
      "C = 100.0\n",
      "[ 0.7144767   0.71620624  0.71621963  0.71727119  0.71847569]\n",
      "Time spent  0:00:10.876436\n",
      "C = 1000.0\n",
      "[ 0.71447667  0.71620624  0.71621965  0.71727119  0.71847569]\n",
      "Time spent  0:00:12.174031\n",
      "C = 10000.0\n",
      "[ 0.71447668  0.71620627  0.71621961  0.71727117  0.71847569]\n",
      "Time spent  0:00:12.712881\n",
      "C = 100000.0\n",
      "[ 0.71447668  0.71620627  0.71621961  0.71727117  0.71847569]\n",
      "Time spent  0:00:10.875074\n"
     ]
    },
    {
     "data": {
      "image/png": "[encoded data removed]",
      "text/plain": [
       "<matplotlib.figure.Figure at 0x7f984450aba8>"
      ]
     },
     "metadata": {},
     "output_type": "display_data"
    }
   ],
   "source": [
    "# Выборка для обучения\n",
    "X_train = train.fillna(0)\n",
    "del X_train['lobby_type']\n",
    "for n in range(1, 6):\n",
    "    del X_train['r{}_hero'.format(n)]\n",
    "    del X_train['d{}_hero'.format(n)]\n",
    "scaler = StandardScaler()\n",
    "X_train = scaler.fit_transform(X_train)\n",
    "\n",
    "# Выборка для теста\n",
    "X_test = X_test.fillna(0)\n",
    "del X_test['lobby_type']\n",
    "for n in range(1, 6):\n",
    "    del X_test['r{}_hero'.format(n)]\n",
    "    del X_test['d{}_hero'.format(n)]\n",
    "scaler = StandardScaler()\n",
    "X_test = scaler.fit_transform(X_test)\n",
    "\n",
    "cv_kf = KFold(y_train.size, n_folds=5, shuffle=True, random_state=42)\n",
    "\n",
    "scores = []\n",
    "C_pow_range = range(-5, 6)\n",
    "C_range = [10.0 ** i for i in C_pow_range]\n",
    "for C in C_range:\n",
    "    start_time = datetime.datetime.now()\n",
    "    print('C =', str(C))\n",
    "    model = LogisticRegression(C=C, random_state=42)\n",
    "    model_scores = cross_val_score(model, X_train, y_train, cv=cv_kf, scoring='roc_auc', n_jobs=-1)\n",
    "\n",
    "    print(model_scores)\n",
    "    print('Time spent ', datetime.datetime.now() - start_time)\n",
    "    scores.append(np.mean(model_scores))\n",
    "\n",
    "plot.plot(C_pow_range, scores)\n",
    "plot.xlabel('log(C)')\n",
    "plot.ylabel('score')\n",
    "plot.show()\n",
    "\n",
    "max_score = max(scores)\n",
    "max_score_index = scores.index(max_score)\n"
   ]
  },
  {
   "cell_type": "markdown",
   "metadata": {},
   "source": [
    "## Результаты"
   ]
  },
  {
   "cell_type": "code",
   "execution_count": null,
   "metadata": {},
   "outputs": [],
   "source": [
    "print('C: ', C_range[max_score_index], 'score: ', max_score)"
   ]
  },
  {
   "cell_type": "markdown",
   "metadata": {},
   "source": [
    "Выводы\n"
   ]
  },
  {
   "cell_type": "markdown",
   "metadata": {},
   "source": [
    "## Добавлении \"мешка слов\" по героям"
   ]
  },
  {
   "cell_type": "code",
   "execution_count": 6,
   "metadata": {},
   "outputs": [
    {
     "name": "stdout",
     "output_type": "stream",
     "text": [
      "Всего героев в игре: 112\n"
     ]
    },
    {
     "name": "stderr",
     "output_type": "stream",
     "text": [
      "/home/magzhan/anaconda3/lib/python3.6/site-packages/ipykernel_launcher.py:8: DeprecationWarning: \n",
      ".ix is deprecated. Please use\n",
      ".loc for label based indexing or\n",
      ".iloc for positional indexing\n",
      "\n",
      "See the documentation here:\n",
      "http://pandas.pydata.org/pandas-docs/stable/indexing.html#ix-indexer-is-deprecated\n",
      "  \n",
      "/home/magzhan/anaconda3/lib/python3.6/site-packages/ipykernel_launcher.py:17: DeprecationWarning: \n",
      ".ix is deprecated. Please use\n",
      ".loc for label based indexing or\n",
      ".iloc for positional indexing\n",
      "\n",
      "See the documentation here:\n",
      "http://pandas.pydata.org/pandas-docs/stable/indexing.html#ix-indexer-is-deprecated\n"
     ]
    },
    {
     "name": "stdout",
     "output_type": "stream",
     "text": [
      "C = 1e-05\n",
      "[ 0.69733286  0.69885623  0.69963632  0.69936261  0.70108801]\n",
      "Time spent  0:00:03.309202\n",
      "C = 0.0001\n",
      "[ 0.72369908  0.72410239  0.72462351  0.7259918   0.72687528]\n",
      "Time spent  0:00:04.931317\n",
      "C = 0.001\n",
      "[ 0.74472648  0.74668589  0.74398597  0.74886378  0.74736825]\n",
      "Time spent  0:00:09.537421\n",
      "C = 0.01\n",
      "[ 0.74947929  0.75274162  0.74909634  0.75544118  0.75171197]\n",
      "Time spent  0:00:15.456894\n",
      "C = 0.1\n",
      "[ 0.7494211   0.75311009  0.74936905  0.75602988  0.75156882]\n",
      "Time spent  0:00:20.981263\n",
      "C = 1.0\n",
      "[ 0.74935292  0.75312852  0.74936763  0.75606873  0.75149828]\n",
      "Time spent  0:00:21.864196\n",
      "C = 10.0\n",
      "[ 0.74934507  0.75312765  0.74936761  0.75607302  0.75149014]\n",
      "Time spent  0:00:21.868875\n",
      "C = 100.0\n",
      "[ 0.74934389  0.75312794  0.7493676   0.75607324  0.75148945]\n",
      "Time spent  0:00:26.223068\n",
      "C = 1000.0\n",
      "[ 0.74934309  0.75312825  0.74936757  0.7560734   0.75148966]\n",
      "Time spent  0:00:23.516602\n",
      "C = 10000.0\n",
      "[ 0.74934293  0.7531283   0.74936698  0.75607333  0.75148969]\n",
      "Time spent  0:00:22.079773\n",
      "C = 100000.0\n",
      "[ 0.74934394  0.75312813  0.74936784  0.75607321  0.75148959]\n",
      "Time spent  0:00:22.932261\n"
     ]
    },
    {
     "data": {
      "image/png": "[encoded data removed]",
      "text/plain": [
       "<matplotlib.figure.Figure at 0x7f98444a4128>"
      ]
     },
     "metadata": {},
     "output_type": "display_data"
    }
   ],
   "source": [
    "heroes = pandas.read_csv('./data/dictionaries/heroes.csv')\n",
    "print('Всего героев в игре:', len(heroes))\n",
    "\n",
    "X_train = train.fillna(0)\n",
    "X_pick = np.zeros((X_train.shape[0], len(heroes)))\n",
    "for i, match_id in enumerate(X_train.index):\n",
    "    for p in range(5):\n",
    "        X_pick[i, X_train.ix[match_id, 'r%d_hero' % (p + 1)] - 1] = 1\n",
    "        X_pick[i, X_train.ix[match_id, 'd%d_hero' % (p + 1)] - 1] = -1\n",
    "\n",
    "X_hero = pandas.DataFrame(X_pick, index=X_train.index)\n",
    "\n",
    "X_test = test.fillna(0)\n",
    "X_pick = np.zeros((X_test.shape[0], len(heroes)))\n",
    "for i, match_id in enumerate(X_test.index):\n",
    "    for p in range(5):\n",
    "        X_pick[i, X_test.ix[match_id, 'r%d_hero' % (p + 1)] - 1] = 1\n",
    "        X_pick[i, X_test.ix[match_id, 'd%d_hero' % (p + 1)] - 1] = -1\n",
    "\n",
    "X_test_hero = pandas.DataFrame(X_pick, index=X_test.index)\n",
    "\n",
    "scaler = StandardScaler()\n",
    "X_train = pandas.DataFrame(scaler.fit_transform(X_train), index=X_train.index)\n",
    "X_test = pandas.DataFrame(scaler.transform(X_test), index=X_test.index)\n",
    "\n",
    "X_train = pandas.concat([X_train, X_hero], axis=1)\n",
    "X_test = pandas.concat([X_test, X_test_hero], axis=1)\n",
    "\n",
    "cv_kf = KFold(y_train.size, n_folds=5, shuffle=True, random_state=42)\n",
    "\n",
    "scores = []\n",
    "C_pow_range = range(-5, 6)\n",
    "C_range = [10.0 ** i for i in C_pow_range]\n",
    "for C in C_range:\n",
    "    start_time = datetime.datetime.now()\n",
    "    print('C =', str(C))\n",
    "    model = LogisticRegression(C=C, random_state=42)\n",
    "    model_scores = cross_val_score(model, X_train, y_train, cv=cv_kf, scoring='roc_auc', n_jobs=-1)\n",
    "\n",
    "    print(model_scores)\n",
    "    print('Time spent ', datetime.datetime.now() - start_time)\n",
    "    scores.append(np.mean(model_scores))\n",
    "\n",
    "plot.plot(C_pow_range, scores)\n",
    "plot.xlabel('log(C)')\n",
    "plot.ylabel('score')\n",
    "plot.show()\n",
    "\n",
    "max_score = max(scores)\n",
    "max_score_index = scores.index(max_score)\n"
   ]
  },
  {
   "cell_type": "markdown",
   "metadata": {},
   "source": [
    "## Результаты"
   ]
  },
  {
   "cell_type": "code",
   "execution_count": 8,
   "metadata": {},
   "outputs": [
    {
     "name": "stdout",
     "output_type": "stream",
     "text": [
      "C:  0.1 score:  0.75189979025\n"
     ]
    }
   ],
   "source": [
    "print('C: ', C_range[max_score_index], 'score: ', max_score)"
   ]
  },
  {
   "cell_type": "markdown",
   "metadata": {},
   "source": [
    "#### Какое качество получилось у логистической регрессии над всеми исходными признаками? Как оно соотносится с качеством градиентного бустинга? Чем можно объяснить эту разницу? Быстрее ли работает логистическая регрессия по сравнению с градиентным бустингом?\n",
    "* Наилучшее значение показателя AUC-ROC при C = 0.01 и равно 0.71. Это сравнимо с градиентным бустингом по 2110 деревьями, при этом логистическая регрессия работает в ~25 быстрее.\n",
    "\n",
    "#### Как влияет на качество логистической регрессии удаление категориальных признаков (укажите новое значение метрики качества)? Чем можно объяснить это изменение?\n",
    "* Удаление категориальных признаков не изменило качество предсказания. Наилучшее значение показателя AUC-ROC не изменились. Следовательно, вес этих параметров в предыдушей модели был близок к нулю.\n",
    "\n",
    "#### Сколько различных идентификаторов героев существует в данной игре?\n",
    "* Всего героев в игре: 112\n",
    "\n",
    "#### Какое получилось качество при добавлении \"мешка слов\" по героям? Улучшилось ли оно по сравнению с предыдущим вариантом? Чем можно это объяснить?\n",
    "* Добавление \"мешка слов\" улучшило качество предсказания. Значение AUC-ROC улучшилось  до 0.75 при C = 0.1. Это объясняется тем, что вместо отсутствия данных о героях или случайного шума из id мы имеем осмысленную разреженную матрицу для построения предсказания.\n",
    "\n",
    "#### Какое минимальное и максимальное значение прогноза на тестовой выборке получилось у лучшего из алгоритмов?\n",
    "* Минимальное значение показателя AUC-ROC у лучшего алгоритма равно 0.69 при C=0.00001 \n",
    "* Максимальное значение показателя AUC-ROC у лучшего алгоритма алгоритма равно 0.751 при C=0.1 \n"
   ]
  },
  {
   "cell_type": "code",
   "execution_count": null,
   "metadata": {},
   "outputs": [],
   "source": []
  }
 ],
 "metadata": {
  "kernelspec": {
   "display_name": "Python 3",
   "language": "python",
   "name": "python3"
  },
  "language_info": {
   "codemirror_mode": {
    "name": "ipython",
    "version": 3
   },
   "file_extension": ".py",
   "mimetype": "text/x-python",
   "name": "python",
   "nbconvert_exporter": "python",
   "pygments_lexer": "ipython3",
   "version": "3.6.4"
  }
 },
 "nbformat": 4,
 "nbformat_minor": 1
}
