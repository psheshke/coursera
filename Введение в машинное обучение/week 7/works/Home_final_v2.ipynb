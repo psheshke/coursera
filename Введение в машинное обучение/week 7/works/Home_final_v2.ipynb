{
 "cells": [
  {
   "cell_type": "code",
   "execution_count": 1,
   "metadata": {},
   "outputs": [],
   "source": [
    "import numpy as np\n",
    "import pandas as pd\n",
    "import time\n",
    "import datetime\n",
    "from sklearn.model_selection import train_test_split\n",
    "from sklearn.model_selection import KFold, cross_val_score\n",
    "from sklearn.ensemble import GradientBoostingClassifier\n",
    "from sklearn.metrics import roc_auc_score as auc\n",
    "from sklearn.linear_model import LogisticRegression\n",
    "from sklearn.preprocessing import StandardScaler"
   ]
  },
  {
   "cell_type": "code",
   "execution_count": 2,
   "metadata": {},
   "outputs": [
    {
     "data": {
      "text/plain": [
       "(97230, 108)"
      ]
     },
     "execution_count": 2,
     "metadata": {},
     "output_type": "execute_result"
    }
   ],
   "source": [
    "features = pd.read_csv('features.csv', index_col='match_id')\n",
    "\n",
    "features.shape"
   ]
  },
  {
   "cell_type": "code",
   "execution_count": 3,
   "metadata": {},
   "outputs": [
    {
     "data": {
      "text/html": [
       "<div>\n",
       "<style scoped>\n",
       "    .dataframe tbody tr th:only-of-type {\n",
       "        vertical-align: middle;\n",
       "    }\n",
       "\n",
       "    .dataframe tbody tr th {\n",
       "        vertical-align: top;\n",
       "    }\n",
       "\n",
       "    .dataframe thead th {\n",
       "        text-align: right;\n",
       "    }\n",
       "</style>\n",
       "<table border=\"1\" class=\"dataframe\">\n",
       "  <thead>\n",
       "    <tr style=\"text-align: right;\">\n",
       "      <th></th>\n",
       "      <th>start_time</th>\n",
       "      <th>lobby_type</th>\n",
       "      <th>r1_hero</th>\n",
       "      <th>r1_level</th>\n",
       "      <th>r1_xp</th>\n",
       "      <th>r1_gold</th>\n",
       "      <th>r1_lh</th>\n",
       "      <th>r1_kills</th>\n",
       "      <th>r1_deaths</th>\n",
       "      <th>r1_items</th>\n",
       "      <th>...</th>\n",
       "      <th>dire_boots_count</th>\n",
       "      <th>dire_ward_observer_count</th>\n",
       "      <th>dire_ward_sentry_count</th>\n",
       "      <th>dire_first_ward_time</th>\n",
       "      <th>duration</th>\n",
       "      <th>radiant_win</th>\n",
       "      <th>tower_status_radiant</th>\n",
       "      <th>tower_status_dire</th>\n",
       "      <th>barracks_status_radiant</th>\n",
       "      <th>barracks_status_dire</th>\n",
       "    </tr>\n",
       "    <tr>\n",
       "      <th>match_id</th>\n",
       "      <th></th>\n",
       "      <th></th>\n",
       "      <th></th>\n",
       "      <th></th>\n",
       "      <th></th>\n",
       "      <th></th>\n",
       "      <th></th>\n",
       "      <th></th>\n",
       "      <th></th>\n",
       "      <th></th>\n",
       "      <th></th>\n",
       "      <th></th>\n",
       "      <th></th>\n",
       "      <th></th>\n",
       "      <th></th>\n",
       "      <th></th>\n",
       "      <th></th>\n",
       "      <th></th>\n",
       "      <th></th>\n",
       "      <th></th>\n",
       "      <th></th>\n",
       "    </tr>\n",
       "  </thead>\n",
       "  <tbody>\n",
       "    <tr>\n",
       "      <th>0</th>\n",
       "      <td>1430198770</td>\n",
       "      <td>7</td>\n",
       "      <td>11</td>\n",
       "      <td>5</td>\n",
       "      <td>2098</td>\n",
       "      <td>1489</td>\n",
       "      <td>20</td>\n",
       "      <td>0</td>\n",
       "      <td>0</td>\n",
       "      <td>7</td>\n",
       "      <td>...</td>\n",
       "      <td>4</td>\n",
       "      <td>2</td>\n",
       "      <td>2</td>\n",
       "      <td>-52.0</td>\n",
       "      <td>2874</td>\n",
       "      <td>1</td>\n",
       "      <td>1796</td>\n",
       "      <td>0</td>\n",
       "      <td>51</td>\n",
       "      <td>0</td>\n",
       "    </tr>\n",
       "    <tr>\n",
       "      <th>1</th>\n",
       "      <td>1430220345</td>\n",
       "      <td>0</td>\n",
       "      <td>42</td>\n",
       "      <td>4</td>\n",
       "      <td>1188</td>\n",
       "      <td>1033</td>\n",
       "      <td>9</td>\n",
       "      <td>0</td>\n",
       "      <td>1</td>\n",
       "      <td>12</td>\n",
       "      <td>...</td>\n",
       "      <td>4</td>\n",
       "      <td>3</td>\n",
       "      <td>1</td>\n",
       "      <td>-5.0</td>\n",
       "      <td>2463</td>\n",
       "      <td>1</td>\n",
       "      <td>1974</td>\n",
       "      <td>0</td>\n",
       "      <td>63</td>\n",
       "      <td>1</td>\n",
       "    </tr>\n",
       "    <tr>\n",
       "      <th>2</th>\n",
       "      <td>1430227081</td>\n",
       "      <td>7</td>\n",
       "      <td>33</td>\n",
       "      <td>4</td>\n",
       "      <td>1319</td>\n",
       "      <td>1270</td>\n",
       "      <td>22</td>\n",
       "      <td>0</td>\n",
       "      <td>0</td>\n",
       "      <td>12</td>\n",
       "      <td>...</td>\n",
       "      <td>4</td>\n",
       "      <td>3</td>\n",
       "      <td>1</td>\n",
       "      <td>13.0</td>\n",
       "      <td>2130</td>\n",
       "      <td>0</td>\n",
       "      <td>0</td>\n",
       "      <td>1830</td>\n",
       "      <td>0</td>\n",
       "      <td>63</td>\n",
       "    </tr>\n",
       "    <tr>\n",
       "      <th>3</th>\n",
       "      <td>1430263531</td>\n",
       "      <td>1</td>\n",
       "      <td>29</td>\n",
       "      <td>4</td>\n",
       "      <td>1779</td>\n",
       "      <td>1056</td>\n",
       "      <td>14</td>\n",
       "      <td>0</td>\n",
       "      <td>0</td>\n",
       "      <td>5</td>\n",
       "      <td>...</td>\n",
       "      <td>4</td>\n",
       "      <td>2</td>\n",
       "      <td>0</td>\n",
       "      <td>27.0</td>\n",
       "      <td>1459</td>\n",
       "      <td>0</td>\n",
       "      <td>1920</td>\n",
       "      <td>2047</td>\n",
       "      <td>50</td>\n",
       "      <td>63</td>\n",
       "    </tr>\n",
       "    <tr>\n",
       "      <th>4</th>\n",
       "      <td>1430282290</td>\n",
       "      <td>7</td>\n",
       "      <td>13</td>\n",
       "      <td>4</td>\n",
       "      <td>1431</td>\n",
       "      <td>1090</td>\n",
       "      <td>8</td>\n",
       "      <td>1</td>\n",
       "      <td>0</td>\n",
       "      <td>8</td>\n",
       "      <td>...</td>\n",
       "      <td>3</td>\n",
       "      <td>3</td>\n",
       "      <td>0</td>\n",
       "      <td>-16.0</td>\n",
       "      <td>2449</td>\n",
       "      <td>0</td>\n",
       "      <td>4</td>\n",
       "      <td>1974</td>\n",
       "      <td>3</td>\n",
       "      <td>63</td>\n",
       "    </tr>\n",
       "  </tbody>\n",
       "</table>\n",
       "<p>5 rows × 108 columns</p>\n",
       "</div>"
      ],
      "text/plain": [
       "          start_time  lobby_type  r1_hero  r1_level  r1_xp  r1_gold  r1_lh  \\\n",
       "match_id                                                                     \n",
       "0         1430198770           7       11         5   2098     1489     20   \n",
       "1         1430220345           0       42         4   1188     1033      9   \n",
       "2         1430227081           7       33         4   1319     1270     22   \n",
       "3         1430263531           1       29         4   1779     1056     14   \n",
       "4         1430282290           7       13         4   1431     1090      8   \n",
       "\n",
       "          r1_kills  r1_deaths  r1_items          ...           \\\n",
       "match_id                                         ...            \n",
       "0                0          0         7          ...            \n",
       "1                0          1        12          ...            \n",
       "2                0          0        12          ...            \n",
       "3                0          0         5          ...            \n",
       "4                1          0         8          ...            \n",
       "\n",
       "          dire_boots_count  dire_ward_observer_count  dire_ward_sentry_count  \\\n",
       "match_id                                                                       \n",
       "0                        4                         2                       2   \n",
       "1                        4                         3                       1   \n",
       "2                        4                         3                       1   \n",
       "3                        4                         2                       0   \n",
       "4                        3                         3                       0   \n",
       "\n",
       "          dire_first_ward_time  duration  radiant_win  tower_status_radiant  \\\n",
       "match_id                                                                      \n",
       "0                        -52.0      2874            1                  1796   \n",
       "1                         -5.0      2463            1                  1974   \n",
       "2                         13.0      2130            0                     0   \n",
       "3                         27.0      1459            0                  1920   \n",
       "4                        -16.0      2449            0                     4   \n",
       "\n",
       "          tower_status_dire  barracks_status_radiant  barracks_status_dire  \n",
       "match_id                                                                    \n",
       "0                         0                       51                     0  \n",
       "1                         0                       63                     1  \n",
       "2                      1830                        0                    63  \n",
       "3                      2047                       50                    63  \n",
       "4                      1974                        3                    63  \n",
       "\n",
       "[5 rows x 108 columns]"
      ]
     },
     "execution_count": 3,
     "metadata": {},
     "output_type": "execute_result"
    }
   ],
   "source": [
    "features.head()"
   ]
  },
  {
   "cell_type": "markdown",
   "metadata": {},
   "source": [
    "# Подход 1: градиентный бустинг \"в лоб\""
   ]
  },
  {
   "cell_type": "markdown",
   "metadata": {},
   "source": [
    "## Какие признаки имеют пропуски среди своих значений (приведите полный список имен этих признаков)? Что могут означать пропуски в этих признаках (ответьте на этот вопрос для двух любых признаков)?"
   ]
  },
  {
   "cell_type": "code",
   "execution_count": 4,
   "metadata": {},
   "outputs": [
    {
     "name": "stdout",
     "output_type": "stream",
     "text": [
      "Признак: first_blood_time должно быть 97230 значений, по факту 77677, не хватает 19553\n",
      "Признак: first_blood_team должно быть 97230 значений, по факту 77677, не хватает 19553\n",
      "Признак: first_blood_player1 должно быть 97230 значений, по факту 77677, не хватает 19553\n",
      "Признак: first_blood_player2 должно быть 97230 значений, по факту 53243, не хватает 43987\n",
      "Признак: radiant_bottle_time должно быть 97230 значений, по факту 81539, не хватает 15691\n",
      "Признак: radiant_courier_time должно быть 97230 значений, по факту 96538, не хватает 692\n",
      "Признак: radiant_flying_courier_time должно быть 97230 значений, по факту 69751, не хватает 27479\n",
      "Признак: radiant_first_ward_time должно быть 97230 значений, по факту 95394, не хватает 1836\n",
      "Признак: dire_bottle_time должно быть 97230 значений, по факту 81087, не хватает 16143\n",
      "Признак: dire_courier_time должно быть 97230 значений, по факту 96554, не хватает 676\n",
      "Признак: dire_flying_courier_time должно быть 97230 значений, по факту 71132, не хватает 26098\n",
      "Признак: dire_first_ward_time должно быть 97230 значений, по факту 95404, не хватает 1826\n"
     ]
    }
   ],
   "source": [
    "for col in features.columns[pd.DataFrame(features.count())[0]<features.shape[0]].tolist() :\n",
    "    print('Признак: {} должно быть {:d} значений, по факту {:d}, не хватает {:d}'.format(col,\n",
    "                                            features.shape[0],\n",
    "                                            features[col].count(),\n",
    "                                            features.shape[0]-features[col].count()))"
   ]
  },
  {
   "cell_type": "markdown",
   "metadata": {},
   "source": [
    "- `first_blood*` Судя по описанию задачи, существуют такие игровые моменты, что first_blood в течении первых 5 минут не случилось и признаки приняли пропущенное значение \n",
    "- `*bottle_time` команды (radiant|dire) не приобретали объект bottle\n",
    "- `*courier_time` команды (radiant|dire) не приобретали объект courier\n",
    "- `*flying_courier_time` команды (radiant|dire) не приобретали объект flying_courier\n",
    "- `*first_ward_time` команды (radiant|dire) не приобретали объект first_ward"
   ]
  },
  {
   "cell_type": "code",
   "execution_count": 5,
   "metadata": {},
   "outputs": [],
   "source": [
    "features.fillna(0,inplace=True)\n",
    "y = features['radiant_win'].to_frame()\n",
    "features.drop(['duration', 'radiant_win', 'tower_status_radiant', \n",
    "               'tower_status_dire', 'barracks_status_radiant', \n",
    "               'barracks_status_dire'], \n",
    "              axis=1, inplace=True)\n",
    "X = features.copy()"
   ]
  },
  {
   "cell_type": "markdown",
   "metadata": {},
   "source": [
    "Проверяем, что отсутствуют пропуски"
   ]
  },
  {
   "cell_type": "code",
   "execution_count": 6,
   "metadata": {},
   "outputs": [
    {
     "name": "stdout",
     "output_type": "stream",
     "text": [
      "[]\n",
      "[]\n"
     ]
    }
   ],
   "source": [
    "print(X.columns[X.isna().any()].tolist())\n",
    "print(y.columns[y.isna().any()].tolist())"
   ]
  },
  {
   "cell_type": "markdown",
   "metadata": {},
   "source": [
    "Столбец содержащий целевую переменную `radiant_win`"
   ]
  },
  {
   "cell_type": "code",
   "execution_count": 7,
   "metadata": {},
   "outputs": [],
   "source": [
    "trees_cnt = [10, 20, 30, 100, 200]"
   ]
  },
  {
   "cell_type": "code",
   "execution_count": 8,
   "metadata": {},
   "outputs": [
    {
     "name": "stdout",
     "output_type": "stream",
     "text": [
      "n_estimators=10\n",
      "scores=[0.6643877206345741] \n",
      "time=0:00:11.923191\n",
      "\n",
      "n_estimators=20\n",
      "scores=[0.6643877206345741, 0.6828535735340823] \n",
      "time=0:00:20.677570\n",
      "\n",
      "n_estimators=30\n",
      "scores=[0.6643877206345741, 0.6828535735340823, 0.6894962060591201] \n",
      "time=0:00:29.729697\n",
      "\n",
      "n_estimators=100\n",
      "scores=[0.6643877206345741, 0.6828535735340823, 0.6894962060591201, 0.7063262181631453] \n",
      "time=0:01:34.980914\n",
      "\n",
      "n_estimators=200\n",
      "scores=[0.6643877206345741, 0.6828535735340823, 0.6894962060591201, 0.7063262181631453, 0.713527508807472] \n",
      "time=0:03:09.201578\n",
      "\n"
     ]
    }
   ],
   "source": [
    "kf = KFold(n_splits=5, shuffle=True, random_state=241)\n",
    "scores = []\n",
    "for n_est in trees_cnt:\n",
    "    print('n_estimators={}'.format(n_est))\n",
    "    model = GradientBoostingClassifier(n_estimators=n_est, random_state=241)\n",
    "    start_time = datetime.datetime.now()\n",
    "    score = cross_val_score(model, X, y, cv=kf, scoring='roc_auc', n_jobs=-1)\n",
    "    scores.append(np.mean(score))\n",
    "    print('scores={} \\ntime={}\\n'.format(scores, (datetime.datetime.now() - start_time)))\n"
   ]
  },
  {
   "cell_type": "code",
   "execution_count": 46,
   "metadata": {},
   "outputs": [
    {
     "name": "stderr",
     "output_type": "stream",
     "text": [
      "/Users/garrison/Downloads/tor-0.3.5.7/shad-env/lib/python3.7/site-packages/sklearn/utils/validation.py:761: DataConversionWarning: A column-vector y was passed when a 1d array was expected. Please change the shape of y to (n_samples, ), for example using ravel().\n",
      "  y = column_or_1d(y, warn=True)\n"
     ]
    },
    {
     "data": {
      "text/plain": [
       "GradientBoostingClassifier(criterion='friedman_mse', init=None,\n",
       "              learning_rate=0.1, loss='deviance', max_depth=3,\n",
       "              max_features=None, max_leaf_nodes=None,\n",
       "              min_impurity_decrease=0.0, min_impurity_split=None,\n",
       "              min_samples_leaf=1, min_samples_split=2,\n",
       "              min_weight_fraction_leaf=0.0, n_estimators=30,\n",
       "              n_iter_no_change=None, presort='auto', random_state=241,\n",
       "              subsample=1.0, tol=0.0001, validation_fraction=0.1,\n",
       "              verbose=0, warm_start=False)"
      ]
     },
     "execution_count": 46,
     "metadata": {},
     "output_type": "execute_result"
    }
   ],
   "source": [
    "model = GradientBoostingClassifier(n_estimators=30, random_state=241)\n",
    "model.fit(X, y)"
   ]
  },
  {
   "cell_type": "markdown",
   "metadata": {},
   "source": [
    "Значимые признаки"
   ]
  },
  {
   "cell_type": "code",
   "execution_count": 71,
   "metadata": {},
   "outputs": [
    {
     "data": {
      "text/html": [
       "<div>\n",
       "<style scoped>\n",
       "    .dataframe tbody tr th:only-of-type {\n",
       "        vertical-align: middle;\n",
       "    }\n",
       "\n",
       "    .dataframe tbody tr th {\n",
       "        vertical-align: top;\n",
       "    }\n",
       "\n",
       "    .dataframe thead th {\n",
       "        text-align: right;\n",
       "    }\n",
       "</style>\n",
       "<table border=\"1\" class=\"dataframe\">\n",
       "  <thead>\n",
       "    <tr style=\"text-align: right;\">\n",
       "      <th></th>\n",
       "      <th>f_name</th>\n",
       "      <th>f_imp</th>\n",
       "    </tr>\n",
       "  </thead>\n",
       "  <tbody>\n",
       "    <tr>\n",
       "      <th>13</th>\n",
       "      <td>r2_gold</td>\n",
       "      <td>0.096906</td>\n",
       "    </tr>\n",
       "    <tr>\n",
       "      <th>84</th>\n",
       "      <td>first_blood_player1</td>\n",
       "      <td>0.094796</td>\n",
       "    </tr>\n",
       "    <tr>\n",
       "      <th>5</th>\n",
       "      <td>r1_gold</td>\n",
       "      <td>0.092631</td>\n",
       "    </tr>\n",
       "    <tr>\n",
       "      <th>29</th>\n",
       "      <td>r4_gold</td>\n",
       "      <td>0.085846</td>\n",
       "    </tr>\n",
       "    <tr>\n",
       "      <th>37</th>\n",
       "      <td>r5_gold</td>\n",
       "      <td>0.085090</td>\n",
       "    </tr>\n",
       "    <tr>\n",
       "      <th>53</th>\n",
       "      <td>d2_gold</td>\n",
       "      <td>0.085066</td>\n",
       "    </tr>\n",
       "    <tr>\n",
       "      <th>45</th>\n",
       "      <td>d1_gold</td>\n",
       "      <td>0.082102</td>\n",
       "    </tr>\n",
       "    <tr>\n",
       "      <th>77</th>\n",
       "      <td>d5_gold</td>\n",
       "      <td>0.077313</td>\n",
       "    </tr>\n",
       "    <tr>\n",
       "      <th>69</th>\n",
       "      <td>d4_gold</td>\n",
       "      <td>0.070134</td>\n",
       "    </tr>\n",
       "    <tr>\n",
       "      <th>21</th>\n",
       "      <td>r3_gold</td>\n",
       "      <td>0.069948</td>\n",
       "    </tr>\n",
       "    <tr>\n",
       "      <th>61</th>\n",
       "      <td>d3_gold</td>\n",
       "      <td>0.068220</td>\n",
       "    </tr>\n",
       "    <tr>\n",
       "      <th>90</th>\n",
       "      <td>radiant_boots_count</td>\n",
       "      <td>0.048124</td>\n",
       "    </tr>\n",
       "    <tr>\n",
       "      <th>98</th>\n",
       "      <td>dire_boots_count</td>\n",
       "      <td>0.034510</td>\n",
       "    </tr>\n",
       "    <tr>\n",
       "      <th>88</th>\n",
       "      <td>radiant_flying_courier_time</td>\n",
       "      <td>0.002035</td>\n",
       "    </tr>\n",
       "    <tr>\n",
       "      <th>70</th>\n",
       "      <td>d4_lh</td>\n",
       "      <td>0.001579</td>\n",
       "    </tr>\n",
       "    <tr>\n",
       "      <th>89</th>\n",
       "      <td>radiant_tpscroll_count</td>\n",
       "      <td>0.001533</td>\n",
       "    </tr>\n",
       "    <tr>\n",
       "      <th>72</th>\n",
       "      <td>d4_deaths</td>\n",
       "      <td>0.001347</td>\n",
       "    </tr>\n",
       "    <tr>\n",
       "      <th>36</th>\n",
       "      <td>r5_xp</td>\n",
       "      <td>0.000789</td>\n",
       "    </tr>\n",
       "    <tr>\n",
       "      <th>30</th>\n",
       "      <td>r4_lh</td>\n",
       "      <td>0.000609</td>\n",
       "    </tr>\n",
       "    <tr>\n",
       "      <th>101</th>\n",
       "      <td>dire_first_ward_time</td>\n",
       "      <td>0.000562</td>\n",
       "    </tr>\n",
       "    <tr>\n",
       "      <th>68</th>\n",
       "      <td>d4_xp</td>\n",
       "      <td>0.000535</td>\n",
       "    </tr>\n",
       "    <tr>\n",
       "      <th>54</th>\n",
       "      <td>d2_lh</td>\n",
       "      <td>0.000327</td>\n",
       "    </tr>\n",
       "  </tbody>\n",
       "</table>\n",
       "</div>"
      ],
      "text/plain": [
       "                          f_name     f_imp\n",
       "13                       r2_gold  0.096906\n",
       "84           first_blood_player1  0.094796\n",
       "5                        r1_gold  0.092631\n",
       "29                       r4_gold  0.085846\n",
       "37                       r5_gold  0.085090\n",
       "53                       d2_gold  0.085066\n",
       "45                       d1_gold  0.082102\n",
       "77                       d5_gold  0.077313\n",
       "69                       d4_gold  0.070134\n",
       "21                       r3_gold  0.069948\n",
       "61                       d3_gold  0.068220\n",
       "90           radiant_boots_count  0.048124\n",
       "98              dire_boots_count  0.034510\n",
       "88   radiant_flying_courier_time  0.002035\n",
       "70                         d4_lh  0.001579\n",
       "89        radiant_tpscroll_count  0.001533\n",
       "72                     d4_deaths  0.001347\n",
       "36                         r5_xp  0.000789\n",
       "30                         r4_lh  0.000609\n",
       "101         dire_first_ward_time  0.000562\n",
       "68                         d4_xp  0.000535\n",
       "54                         d2_lh  0.000327"
      ]
     },
     "execution_count": 71,
     "metadata": {},
     "output_type": "execute_result"
    }
   ],
   "source": [
    "cols = pd.DataFrame(list(zip(X.columns, model.feature_importances_)),columns=['f_name','f_imp'])\n",
    "a = cols[cols['f_imp']>0]\n",
    "a.sort_values(by=['f_imp'], ascending=False)"
   ]
  },
  {
   "cell_type": "markdown",
   "metadata": {},
   "source": [
    "Бустинг с 30 деревьями завершился за ~30 секунд, показатель AUC_ROC при этом"
   ]
  },
  {
   "cell_type": "code",
   "execution_count": 11,
   "metadata": {},
   "outputs": [
    {
     "data": {
      "text/plain": [
       "0.69"
      ]
     },
     "execution_count": 11,
     "metadata": {},
     "output_type": "execute_result"
    }
   ],
   "source": [
    "round(dict(zip(trees_cnt, scores))[30], 2)"
   ]
  },
  {
   "cell_type": "markdown",
   "metadata": {},
   "source": [
    "Скорость бустинг на большем кол-ве деревьев падает (см. вывод)\n",
    "Для увеличения производительности можно сократить обучающую выборку, уменьшить кол-во уровней деревьев (хотя и так деревья не большой глубины)"
   ]
  },
  {
   "cell_type": "markdown",
   "metadata": {},
   "source": [
    "# Подход 2: логистическая регрессия"
   ]
  },
  {
   "cell_type": "code",
   "execution_count": 12,
   "metadata": {},
   "outputs": [
    {
     "name": "stderr",
     "output_type": "stream",
     "text": [
      "/Users/garrison/Downloads/tor-0.3.5.7/shad-env/lib/python3.7/site-packages/sklearn/preprocessing/data.py:625: DataConversionWarning: Data with input dtype int64, float64 were all converted to float64 by StandardScaler.\n",
      "  return self.partial_fit(X, y)\n",
      "/Users/garrison/Downloads/tor-0.3.5.7/shad-env/lib/python3.7/site-packages/sklearn/base.py:462: DataConversionWarning: Data with input dtype int64, float64 were all converted to float64 by StandardScaler.\n",
      "  return self.fit(X, **fit_params).transform(X)\n"
     ]
    }
   ],
   "source": [
    "kf = KFold(n_splits=5, shuffle=True, random_state=241)\n",
    "scaler = StandardScaler()\n",
    "X_sc = scaler.fit_transform(X)"
   ]
  },
  {
   "cell_type": "code",
   "execution_count": 13,
   "metadata": {},
   "outputs": [
    {
     "name": "stdout",
     "output_type": "stream",
     "text": [
      "C=1e-05\n",
      "scores=[[1e-05, 0.6950671060455955]] \n",
      "time=0:00:02.078916\n",
      "\n",
      "C=0.0001\n",
      "scores=[[1e-05, 0.6950671060455955], [0.0001, 0.7111751693895906]] \n",
      "time=0:00:03.300630\n",
      "\n",
      "C=0.001\n",
      "scores=[[1e-05, 0.6950671060455955], [0.0001, 0.7111751693895906], [0.001, 0.7161380771088343]] \n",
      "time=0:00:04.881985\n",
      "\n",
      "C=0.01\n",
      "scores=[[1e-05, 0.6950671060455955], [0.0001, 0.7111751693895906], [0.001, 0.7161380771088343], [0.01, 0.7163254738869566]] \n",
      "time=0:00:07.268478\n",
      "\n",
      "C=0.1\n",
      "scores=[[1e-05, 0.6950671060455955], [0.0001, 0.7111751693895906], [0.001, 0.7161380771088343], [0.01, 0.7163254738869566], [0.1, 0.7163004594754305]] \n",
      "time=0:00:07.097285\n",
      "\n",
      "C=1.0\n",
      "scores=[[1e-05, 0.6950671060455955], [0.0001, 0.7111751693895906], [0.001, 0.7161380771088343], [0.01, 0.7163254738869566], [0.1, 0.7163004594754305], [1.0, 0.716296996207044]] \n",
      "time=0:00:06.111433\n",
      "\n",
      "C=10.0\n",
      "scores=[[1e-05, 0.6950671060455955], [0.0001, 0.7111751693895906], [0.001, 0.7161380771088343], [0.01, 0.7163254738869566], [0.1, 0.7163004594754305], [1.0, 0.716296996207044], [10.0, 0.7162968163324395]] \n",
      "time=0:00:07.096106\n",
      "\n",
      "C=100.0\n",
      "scores=[[1e-05, 0.6950671060455955], [0.0001, 0.7111751693895906], [0.001, 0.7161380771088343], [0.01, 0.7163254738869566], [0.1, 0.7163004594754305], [1.0, 0.716296996207044], [10.0, 0.7162968163324395], [100.0, 0.7162967655736445]] \n",
      "time=0:00:06.608970\n",
      "\n"
     ]
    }
   ],
   "source": [
    "kfl = KFold(n_splits=5, shuffle=True, random_state=17)\n",
    "scores = []\n",
    "for C_idx in [10.0 ** i for i in range(-5,3)]:\n",
    "    print('C={}'.format(C_idx))\n",
    "    start_time = datetime.datetime.now()\n",
    "    model = LogisticRegression(C=C_idx, random_state=17, n_jobs=-1)\n",
    "    score = cross_val_score(model, X_sc, y, cv=kfl, scoring='roc_auc', n_jobs=-1)\n",
    "    scores.append([C_idx,np.mean(score)])\n",
    "    print('scores={} \\ntime={}\\n'.format(scores, (datetime.datetime.now() - start_time)))\n"
   ]
  },
  {
   "cell_type": "code",
   "execution_count": 14,
   "metadata": {},
   "outputs": [
    {
     "data": {
      "text/plain": [
       "[[1e-05, 0.6950671060455955],\n",
       " [0.0001, 0.7111751693895906],\n",
       " [0.001, 0.7161380771088343],\n",
       " [0.01, 0.7163254738869566],\n",
       " [0.1, 0.7163004594754305],\n",
       " [1.0, 0.716296996207044],\n",
       " [10.0, 0.7162968163324395],\n",
       " [100.0, 0.7162967655736445]]"
      ]
     },
     "execution_count": 14,
     "metadata": {},
     "output_type": "execute_result"
    }
   ],
   "source": [
    "scores"
   ]
  },
  {
   "cell_type": "code",
   "execution_count": 15,
   "metadata": {},
   "outputs": [
    {
     "name": "stdout",
     "output_type": "stream",
     "text": [
      "Лучшее С=0.01 AUC_ROC=0.7163\n"
     ]
    }
   ],
   "source": [
    "print('Лучшее С={:.2f} AUC_ROC={:.4f}'.format(pd.DataFrame(scores).sort_values(by=[1],ascending=False).iloc[0,:][0],\n",
    "               pd.DataFrame(scores).sort_values(by=[1],ascending=False).iloc[0,:][1]))"
   ]
  },
  {
   "cell_type": "markdown",
   "metadata": {},
   "source": [
    "Это лучше бустинга с 200 деревьями и быстрее в несколько раз"
   ]
  },
  {
   "cell_type": "code",
   "execution_count": 16,
   "metadata": {},
   "outputs": [],
   "source": [
    "X_sc = X.drop([col for col in X.columns if 'hero' in col],axis=1)\n",
    "X_sc.drop('lobby_type', axis=1, inplace=True)"
   ]
  },
  {
   "cell_type": "code",
   "execution_count": 17,
   "metadata": {},
   "outputs": [
    {
     "name": "stderr",
     "output_type": "stream",
     "text": [
      "/Users/garrison/Downloads/tor-0.3.5.7/shad-env/lib/python3.7/site-packages/sklearn/preprocessing/data.py:625: DataConversionWarning: Data with input dtype int64, float64 were all converted to float64 by StandardScaler.\n",
      "  return self.partial_fit(X, y)\n",
      "/Users/garrison/Downloads/tor-0.3.5.7/shad-env/lib/python3.7/site-packages/sklearn/base.py:462: DataConversionWarning: Data with input dtype int64, float64 were all converted to float64 by StandardScaler.\n",
      "  return self.fit(X, **fit_params).transform(X)\n"
     ]
    },
    {
     "name": "stdout",
     "output_type": "stream",
     "text": [
      "C=1e-05\n",
      "scores=[[1e-05, 0.6950129835407391]] \n",
      "time=0:00:01.643229\n",
      "\n",
      "C=0.0001\n",
      "scores=[[1e-05, 0.6950129835407391], [0.0001, 0.7111777383642851]] \n",
      "time=0:00:02.420940\n",
      "\n",
      "C=0.001\n",
      "scores=[[1e-05, 0.6950129835407391], [0.0001, 0.7111777383642851], [0.001, 0.7161749611547793]] \n",
      "time=0:00:04.434083\n",
      "\n",
      "C=0.01\n",
      "scores=[[1e-05, 0.6950129835407391], [0.0001, 0.7111777383642851], [0.001, 0.7161749611547793], [0.01, 0.7163666615286292]] \n",
      "time=0:00:05.753119\n",
      "\n",
      "C=0.1\n",
      "scores=[[1e-05, 0.6950129835407391], [0.0001, 0.7111777383642851], [0.001, 0.7161749611547793], [0.01, 0.7163666615286292], [0.1, 0.716341677250904]] \n",
      "time=0:00:05.538197\n",
      "\n",
      "C=1.0\n",
      "scores=[[1e-05, 0.6950129835407391], [0.0001, 0.7111777383642851], [0.001, 0.7161749611547793], [0.01, 0.7163666615286292], [0.1, 0.716341677250904], [1.0, 0.7163378941148857]] \n",
      "time=0:00:06.126627\n",
      "\n",
      "C=10.0\n",
      "scores=[[1e-05, 0.6950129835407391], [0.0001, 0.7111777383642851], [0.001, 0.7161749611547793], [0.01, 0.7163666615286292], [0.1, 0.716341677250904], [1.0, 0.7163378941148857], [10.0, 0.7163375277647255]] \n",
      "time=0:00:06.498312\n",
      "\n",
      "C=100.0\n",
      "scores=[[1e-05, 0.6950129835407391], [0.0001, 0.7111777383642851], [0.001, 0.7161749611547793], [0.01, 0.7163666615286292], [0.1, 0.716341677250904], [1.0, 0.7163378941148857], [10.0, 0.7163375277647255], [100.0, 0.7163374048828152]] \n",
      "time=0:00:06.227970\n",
      "\n"
     ]
    }
   ],
   "source": [
    "scaler = StandardScaler()\n",
    "X_sc = scaler.fit_transform(X_sc)\n",
    "kfl = KFold(n_splits=5, shuffle=True, random_state=17)\n",
    "scores = []\n",
    "for C_idx in [10.0 ** i for i in range(-5,3)]:\n",
    "    print('C={}'.format(C_idx))\n",
    "    start_time = datetime.datetime.now()\n",
    "    model = LogisticRegression(C=C_idx, random_state=17, n_jobs=-1)\n",
    "    score = cross_val_score(model, X_sc, y, cv=kfl, scoring='roc_auc', n_jobs=-1)\n",
    "    scores.append([C_idx,np.mean(score)])\n",
    "    print('scores={} \\ntime={}\\n'.format(scores, (datetime.datetime.now() - start_time)))"
   ]
  },
  {
   "cell_type": "code",
   "execution_count": 18,
   "metadata": {},
   "outputs": [
    {
     "data": {
      "text/plain": [
       "[[1e-05, 0.6950129835407391],\n",
       " [0.0001, 0.7111777383642851],\n",
       " [0.001, 0.7161749611547793],\n",
       " [0.01, 0.7163666615286292],\n",
       " [0.1, 0.716341677250904],\n",
       " [1.0, 0.7163378941148857],\n",
       " [10.0, 0.7163375277647255],\n",
       " [100.0, 0.7163374048828152]]"
      ]
     },
     "execution_count": 18,
     "metadata": {},
     "output_type": "execute_result"
    }
   ],
   "source": [
    "scores"
   ]
  },
  {
   "cell_type": "code",
   "execution_count": 19,
   "metadata": {},
   "outputs": [
    {
     "name": "stdout",
     "output_type": "stream",
     "text": [
      "Лучшее С=0.01 AUC_ROC=0.7164\n"
     ]
    }
   ],
   "source": [
    "print('Лучшее С={:.2f} AUC_ROC={:.4f}'.format(pd.DataFrame(scores).sort_values(by=[1],ascending=False).iloc[0,:][0],\n",
    "               pd.DataFrame(scores).sort_values(by=[1],ascending=False).iloc[0,:][1]))"
   ]
  },
  {
   "cell_type": "markdown",
   "metadata": {},
   "source": [
    "Удаление категориальных признаков ничтожно мало повлияло на качество предсказания. \n",
    "Наилучшее значение показателя AUC-ROC так же достигается при `C = 0.01 и равно 0.7164`. \n",
    "В предыдущем эксперименте `Лучшее С=0.01 AUC_ROC=0.7163`\n",
    " В предыдущей модели признаки `*hero` никак не влияли на результат, возможно, модель посчитала признаки не значимыми (см вывод \"Значимые признаки\")"
   ]
  },
  {
   "cell_type": "code",
   "execution_count": 20,
   "metadata": {},
   "outputs": [],
   "source": [
    "df_unique = pd.DataFrame(np.unique(X[[col for col in X.columns if 'hero' in col]].values))\n",
    "h_unq_cnt = df_unique.count()[0]\n",
    "h = pd.read_csv('./dictionaries/heroes.csv')\n",
    "h_all_cnt = h.shape[0]"
   ]
  },
  {
   "cell_type": "code",
   "execution_count": 21,
   "metadata": {},
   "outputs": [
    {
     "name": "stdout",
     "output_type": "stream",
     "text": [
      "Различных (уникальных) геров в данных = 108\n"
     ]
    }
   ],
   "source": [
    "print('Различных (уникальных) геров в данных = {}'.format(h_unq_cnt))"
   ]
  },
  {
   "cell_type": "code",
   "execution_count": 34,
   "metadata": {},
   "outputs": [
    {
     "name": "stdout",
     "output_type": "stream",
     "text": [
      "Всего геров = 112\n"
     ]
    }
   ],
   "source": [
    "print('Всего геров = {}'.format(h_all_cnt))"
   ]
  },
  {
   "cell_type": "code",
   "execution_count": 22,
   "metadata": {},
   "outputs": [],
   "source": [
    "X_pick = np.zeros((X.shape[0], h_all_cnt))\n",
    "\n",
    "for i, match_id in enumerate(X.index):\n",
    "    for p in range(1,5):\n",
    "        X_pick[i, X.loc[match_id, 'r%d_hero' % (p+1)]-1] = 1\n",
    "        X_pick[i, X.loc[match_id, 'd%d_hero' % (p+1)]-1] = -1"
   ]
  },
  {
   "cell_type": "code",
   "execution_count": 97,
   "metadata": {},
   "outputs": [
    {
     "name": "stderr",
     "output_type": "stream",
     "text": [
      "/Users/garrison/Downloads/tor-0.3.5.7/shad-env/lib/python3.7/site-packages/sklearn/preprocessing/data.py:625: DataConversionWarning: Data with input dtype int64, float64 were all converted to float64 by StandardScaler.\n",
      "  return self.partial_fit(X, y)\n",
      "/Users/garrison/Downloads/tor-0.3.5.7/shad-env/lib/python3.7/site-packages/sklearn/base.py:462: DataConversionWarning: Data with input dtype int64, float64 were all converted to float64 by StandardScaler.\n",
      "  return self.fit(X, **fit_params).transform(X)\n"
     ]
    }
   ],
   "source": [
    "XX_pick = pd.concat([X.reset_index(drop=True), pd.DataFrame(X_pick).reset_index(drop=True)], axis=1, ignore_index=True)\n",
    "scaler = StandardScaler()\n",
    "XX_pick_sc = scaler.fit_transform(XX_pick)"
   ]
  },
  {
   "cell_type": "code",
   "execution_count": 24,
   "metadata": {},
   "outputs": [
    {
     "name": "stderr",
     "output_type": "stream",
     "text": [
      "/Users/garrison/Downloads/tor-0.3.5.7/shad-env/lib/python3.7/site-packages/sklearn/preprocessing/data.py:625: DataConversionWarning: Data with input dtype int64, float64 were all converted to float64 by StandardScaler.\n",
      "  return self.partial_fit(X, y)\n",
      "/Users/garrison/Downloads/tor-0.3.5.7/shad-env/lib/python3.7/site-packages/sklearn/base.py:462: DataConversionWarning: Data with input dtype int64, float64 were all converted to float64 by StandardScaler.\n",
      "  return self.fit(X, **fit_params).transform(X)\n"
     ]
    },
    {
     "name": "stdout",
     "output_type": "stream",
     "text": [
      "C=1e-05\n",
      "scores=[[1e-05, 0.7101158659962329]] \n",
      "time=0:00:04.563647\n",
      "\n",
      "C=0.0001\n",
      "scores=[[1e-05, 0.7101158659962329], [0.0001, 0.7352713688169008]] \n",
      "time=0:00:05.629531\n",
      "\n",
      "C=0.001\n",
      "scores=[[1e-05, 0.7101158659962329], [0.0001, 0.7352713688169008], [0.001, 0.7429377117190608]] \n",
      "time=0:00:08.668448\n",
      "\n",
      "C=0.01\n",
      "scores=[[1e-05, 0.7101158659962329], [0.0001, 0.7352713688169008], [0.001, 0.7429377117190608], [0.01, 0.7431920652419957]] \n",
      "time=0:00:12.239337\n",
      "\n",
      "C=0.1\n",
      "scores=[[1e-05, 0.7101158659962329], [0.0001, 0.7352713688169008], [0.001, 0.7429377117190608], [0.01, 0.7431920652419957], [0.1, 0.7431576342382402]] \n",
      "time=0:00:12.880193\n",
      "\n",
      "C=1.0\n",
      "scores=[[1e-05, 0.7101158659962329], [0.0001, 0.7352713688169008], [0.001, 0.7429377117190608], [0.01, 0.7431920652419957], [0.1, 0.7431576342382402], [1.0, 0.7431529441214357]] \n",
      "time=0:00:13.503205\n",
      "\n",
      "C=10.0\n",
      "scores=[[1e-05, 0.7101158659962329], [0.0001, 0.7352713688169008], [0.001, 0.7429377117190608], [0.01, 0.7431920652419957], [0.1, 0.7431576342382402], [1.0, 0.7431529441214357], [10.0, 0.743152356836584]] \n",
      "time=0:00:14.772827\n",
      "\n",
      "C=100.0\n",
      "scores=[[1e-05, 0.7101158659962329], [0.0001, 0.7352713688169008], [0.001, 0.7429377117190608], [0.01, 0.7431920652419957], [0.1, 0.7431576342382402], [1.0, 0.7431529441214357], [10.0, 0.743152356836584], [100.0, 0.7431523717205947]] \n",
      "time=0:00:14.740934\n",
      "\n"
     ]
    }
   ],
   "source": [
    "kfl = KFold(n_splits=5, shuffle=True, random_state=241)\n",
    "scores = []\n",
    "for C_idx in [10.0 ** i for i in range(-5,3)]:\n",
    "    print('C={}'.format(C_idx))\n",
    "    start_time = datetime.datetime.now()\n",
    "    model = LogisticRegression(C=C_idx, random_state=241, n_jobs=-1)\n",
    "    score = cross_val_score(model, XX_pick_sc, y, cv=kfl, scoring='roc_auc', n_jobs=-1)\n",
    "    scores.append([C_idx,np.mean(score)])\n",
    "    print('scores={} \\ntime={}\\n'.format(scores, (datetime.datetime.now() - start_time)))"
   ]
  },
  {
   "cell_type": "code",
   "execution_count": 25,
   "metadata": {},
   "outputs": [
    {
     "data": {
      "text/plain": [
       "[[1e-05, 0.7101158659962329],\n",
       " [0.0001, 0.7352713688169008],\n",
       " [0.001, 0.7429377117190608],\n",
       " [0.01, 0.7431920652419957],\n",
       " [0.1, 0.7431576342382402],\n",
       " [1.0, 0.7431529441214357],\n",
       " [10.0, 0.743152356836584],\n",
       " [100.0, 0.7431523717205947]]"
      ]
     },
     "execution_count": 25,
     "metadata": {},
     "output_type": "execute_result"
    }
   ],
   "source": [
    "scores"
   ]
  },
  {
   "cell_type": "code",
   "execution_count": 26,
   "metadata": {},
   "outputs": [
    {
     "name": "stdout",
     "output_type": "stream",
     "text": [
      "Лучшее С=0.01 AUC_ROC=0.7432\n"
     ]
    }
   ],
   "source": [
    "print('Лучшее С={:.2f} AUC_ROC={:.4f}'.format(pd.DataFrame(scores).sort_values(by=[1],ascending=False).iloc[0,:][0],\n",
    "               pd.DataFrame(scores).sort_values(by=[1],ascending=False).iloc[0,:][1]))"
   ]
  },
  {
   "cell_type": "markdown",
   "metadata": {},
   "source": [
    "Добавления \"мешка слов\" улучшает качество модели. \n",
    "Наилучшее значение показателя AUC-ROC достигается при C = 0.1 и равно 0.7432. \n",
    "Это объясняется тем, что добавились признаки о героях."
   ]
  },
  {
   "cell_type": "code",
   "execution_count": 27,
   "metadata": {},
   "outputs": [],
   "source": [
    "df_test = pd.read_csv('./features_test.csv', index_col='match_id')"
   ]
  },
  {
   "cell_type": "code",
   "execution_count": 90,
   "metadata": {},
   "outputs": [
    {
     "name": "stdout",
     "output_type": "stream",
     "text": [
      "(17177, 102) (17177, 112)\n"
     ]
    }
   ],
   "source": [
    "df_test.fillna(0,inplace=True)\n",
    "X_test_pick = np.zeros((X_test.shape[0], h_all_cnt))\n",
    "\n",
    "for i, match_id in enumerate(X_test.index):\n",
    "    for p in range(1,5):\n",
    "        X_test_pick[i, X_test.loc[match_id, 'r%d_hero' % (p+1)]-1] = 1\n",
    "        X_test_pick[i, X_test.loc[match_id, 'd%d_hero' % (p+1)]-1] = -1\n",
    "print(X_test.shape,X_test_pick.shape)"
   ]
  },
  {
   "cell_type": "code",
   "execution_count": 99,
   "metadata": {},
   "outputs": [],
   "source": [
    "XX_test_pick = pd.concat([X_test.reset_index(drop=True), pd.DataFrame(X_test_pick).reset_index(drop=True)], axis=1, ignore_index=True)"
   ]
  },
  {
   "cell_type": "code",
   "execution_count": 103,
   "metadata": {},
   "outputs": [
    {
     "name": "stderr",
     "output_type": "stream",
     "text": [
      "/Users/garrison/Downloads/tor-0.3.5.7/shad-env/lib/python3.7/site-packages/ipykernel_launcher.py:1: DataConversionWarning: Data with input dtype int64, float64 were all converted to float64 by StandardScaler.\n",
      "  \"\"\"Entry point for launching an IPython kernel.\n",
      "/Users/garrison/Downloads/tor-0.3.5.7/shad-env/lib/python3.7/site-packages/sklearn/linear_model/logistic.py:433: FutureWarning: Default solver will be changed to 'lbfgs' in 0.22. Specify a solver to silence this warning.\n",
      "  FutureWarning)\n",
      "/Users/garrison/Downloads/tor-0.3.5.7/shad-env/lib/python3.7/site-packages/sklearn/utils/validation.py:761: DataConversionWarning: A column-vector y was passed when a 1d array was expected. Please change the shape of y to (n_samples, ), for example using ravel().\n",
      "  y = column_or_1d(y, warn=True)\n",
      "/Users/garrison/Downloads/tor-0.3.5.7/shad-env/lib/python3.7/site-packages/sklearn/linear_model/logistic.py:1300: UserWarning: 'n_jobs' > 1 does not have any effect when 'solver' is set to 'liblinear'. Got 'n_jobs' = 8.\n",
      "  \" = {}.\".format(effective_n_jobs(self.n_jobs)))\n"
     ]
    }
   ],
   "source": [
    "XX_test_pick_sc = scaler.transform(XX_test_pick)\n",
    "model = LogisticRegression(C=0.01, random_state=241, n_jobs=-1)\n",
    "model.fit(XX_pick_sc, y)\n",
    "y_test = model.predict_proba(XX_test_pick_sc)[:, 1]"
   ]
  },
  {
   "cell_type": "code",
   "execution_count": 104,
   "metadata": {},
   "outputs": [
    {
     "data": {
      "text/html": [
       "<div>\n",
       "<style scoped>\n",
       "    .dataframe tbody tr th:only-of-type {\n",
       "        vertical-align: middle;\n",
       "    }\n",
       "\n",
       "    .dataframe tbody tr th {\n",
       "        vertical-align: top;\n",
       "    }\n",
       "\n",
       "    .dataframe thead th {\n",
       "        text-align: right;\n",
       "    }\n",
       "</style>\n",
       "<table border=\"1\" class=\"dataframe\">\n",
       "  <thead>\n",
       "    <tr style=\"text-align: right;\">\n",
       "      <th></th>\n",
       "      <th>radiant_win</th>\n",
       "    </tr>\n",
       "    <tr>\n",
       "      <th>match_id</th>\n",
       "      <th></th>\n",
       "    </tr>\n",
       "  </thead>\n",
       "  <tbody>\n",
       "    <tr>\n",
       "      <th>6</th>\n",
       "      <td>0.760812</td>\n",
       "    </tr>\n",
       "    <tr>\n",
       "      <th>7</th>\n",
       "      <td>0.715940</td>\n",
       "    </tr>\n",
       "    <tr>\n",
       "      <th>10</th>\n",
       "      <td>0.237363</td>\n",
       "    </tr>\n",
       "    <tr>\n",
       "      <th>13</th>\n",
       "      <td>0.870139</td>\n",
       "    </tr>\n",
       "    <tr>\n",
       "      <th>16</th>\n",
       "      <td>0.313584</td>\n",
       "    </tr>\n",
       "  </tbody>\n",
       "</table>\n",
       "</div>"
      ],
      "text/plain": [
       "          radiant_win\n",
       "match_id             \n",
       "6            0.760812\n",
       "7            0.715940\n",
       "10           0.237363\n",
       "13           0.870139\n",
       "16           0.313584"
      ]
     },
     "execution_count": 104,
     "metadata": {},
     "output_type": "execute_result"
    }
   ],
   "source": [
    "res = pd.DataFrame({'radiant_win': y_test}, index=X_test.index)\n",
    "res.head()"
   ]
  },
  {
   "cell_type": "code",
   "execution_count": 105,
   "metadata": {},
   "outputs": [
    {
     "name": "stdout",
     "output_type": "stream",
     "text": [
      "Минимальное значение прогноза = 0.0086\n",
      "Максимальное значение прогноза = 0.9938\n"
     ]
    }
   ],
   "source": [
    "print('Минимальное значение прогноза = {:.4f}\\nМаксимальное значение прогноза = {:.4f}'.format(res.min()[0], res.max()[0]))"
   ]
  },
  {
   "cell_type": "code",
   "execution_count": 106,
   "metadata": {},
   "outputs": [],
   "source": [
    "res.to_csv('kaggle_dota2.csv')"
   ]
  },
  {
   "cell_type": "code",
   "execution_count": 107,
   "metadata": {},
   "outputs": [
    {
     "name": "stdout",
     "output_type": "stream",
     "text": [
      "match_id,radiant_win\r\n",
      "6,0.7608118098289546\r\n",
      "7,0.7159404392087882\r\n",
      "10,0.2373627252328378\r\n",
      "13,0.8701386038252102\r\n",
      "16,0.3135840755129491\r\n",
      "18,0.39518684021739653\r\n",
      "19,0.5308655479687442\r\n",
      "24,0.5593024502519423\r\n",
      "33,0.17805842301459363\r\n"
     ]
    }
   ],
   "source": [
    "!head -10 ./kaggle_dota2.csv"
   ]
  }
 ],
 "metadata": {
  "kernelspec": {
   "display_name": "Python 3",
   "language": "python",
   "name": "python3"
  },
  "language_info": {
   "codemirror_mode": {
    "name": "ipython",
    "version": 3
   },
   "file_extension": ".py",
   "mimetype": "text/x-python",
   "name": "python",
   "nbconvert_exporter": "python",
   "pygments_lexer": "ipython3",
   "version": "3.6.6"
  }
 },
 "nbformat": 4,
 "nbformat_minor": 2
}
