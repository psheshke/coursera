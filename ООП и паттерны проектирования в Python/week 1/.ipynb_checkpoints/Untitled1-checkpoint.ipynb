{
 "cells": [
  {
   "cell_type": "code",
   "execution_count": 1,
   "metadata": {},
   "outputs": [],
   "source": [
    "import unittest"
   ]
  },
  {
   "cell_type": "code",
   "execution_count": 7,
   "metadata": {},
   "outputs": [],
   "source": [
    "def factorize(x):\n",
    "    \"\"\" \n",
    "    Factorize positive integer and return its factors.\n",
    "    :type x: int,>=0\n",
    "    :rtype: tuple[N],N>0\n",
    "    \"\"\"\n",
    "    pass"
   ]
  },
  {
   "cell_type": "code",
   "execution_count": 3,
   "metadata": {},
   "outputs": [],
   "source": [
    "class TestFactorize(unittest.TestCase):\n",
    "    \n",
    "    \n",
    "    def test_wrong_types_raise_exception(self):\n",
    "        cases = ('string', 1.5)\n",
    "        for x in cases:\n",
    "            with self.subTest(case=x):\n",
    "                self.assertRaises(TypeError, factorize, x)\n",
    "    \n",
    "    \n",
    "    def test_negative(self):\n",
    "        cases = (-1, -10, -100)\n",
    "        for x in cases:\n",
    "            with self.subTest(case=x):\n",
    "                self.assertRaises(ValueError, factorize, x)\n",
    "    \n",
    "    \n",
    "    def test_zero_and_one_cases(self):\n",
    "        for n, f in (0, (0,)), (1, (1,)):\n",
    "            with self.subTest(x=n):\n",
    "                self. assertEqual (factorize(n), f)\n",
    "    \n",
    "    \n",
    "    def test_simple_numbers(self):\n",
    "        for n, f in (3, (3,)), (13, (13,)), (29, (29,)):\n",
    "            with self.subTest(x=n):\n",
    "                self. assertEqual (factorize(n), f)\n",
    "    \n",
    "    \n",
    "    def test_two_simple_multipliers(self):\n",
    "        for n, f in (6, (2,3)), (26, (2,13)), (121, (11,11)):\n",
    "            with self.subTest(x=n):\n",
    "                self. assertEqual (factorize(n), f)\n",
    "    \n",
    "    \n",
    "    def test_many_multipliers(self):\n",
    "        for n, f in (1001, (7, 11, 13)), (9699690, (2, 3, 5, 7, 11, 13, 17, 19)):\n",
    "            with self.subTest(x=n):\n",
    "                self. assertEqual (factorize(n), f)\n",
    "    "
   ]
  },
  {
   "cell_type": "code",
   "execution_count": null,
   "metadata": {},
   "outputs": [],
   "source": []
  },
  {
   "cell_type": "code",
   "execution_count": null,
   "metadata": {},
   "outputs": [],
   "source": []
  }
 ],
 "metadata": {
  "kernelspec": {
   "display_name": "Python 3",
   "language": "python",
   "name": "python3"
  },
  "language_info": {
   "codemirror_mode": {
    "name": "ipython",
    "version": 3
   },
   "file_extension": ".py",
   "mimetype": "text/x-python",
   "name": "python",
   "nbconvert_exporter": "python",
   "pygments_lexer": "ipython3",
   "version": "3.8.3"
  }
 },
 "nbformat": 4,
 "nbformat_minor": 4
}
