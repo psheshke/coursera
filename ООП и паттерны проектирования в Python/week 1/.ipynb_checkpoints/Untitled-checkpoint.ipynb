{
 "cells": [
  {
   "cell_type": "code",
   "execution_count": 2,
   "metadata": {},
   "outputs": [
    {
     "name": "stdout",
     "output_type": "stream",
     "text": [
      "57 A444UU\n",
      "67 A666AA\n",
      "fine_sum: 0\n",
      "fine_sum: 500\n",
      "exit\n"
     ]
    },
    {
     "ename": "ValueError",
     "evalue": "not enough values to unpack (expected 2, got 1)",
     "output_type": "error",
     "traceback": [
      "\u001b[1;31m---------------------------------------------------------------------------\u001b[0m",
      "\u001b[1;31mValueError\u001b[0m                                Traceback (most recent call last)",
      "\u001b[1;32m<ipython-input-2-21e412e30b44>\u001b[0m in \u001b[0;36m<module>\u001b[1;34m\u001b[0m\n\u001b[0;32m     31\u001b[0m             \u001b[0mfine_sum\u001b[0m \u001b[1;33m+=\u001b[0m \u001b[0mcalculate_fine\u001b[0m\u001b[1;33m(\u001b[0m\u001b[0mnum\u001b[0m\u001b[1;33m)\u001b[0m\u001b[1;33m\u001b[0m\u001b[1;33m\u001b[0m\u001b[0m\n\u001b[0;32m     32\u001b[0m             \u001b[0mprint\u001b[0m\u001b[1;33m(\u001b[0m\u001b[1;34mf'fine_sum: {fine_sum}'\u001b[0m\u001b[1;33m)\u001b[0m\u001b[1;33m\u001b[0m\u001b[1;33m\u001b[0m\u001b[0m\n\u001b[1;32m---> 33\u001b[1;33m         \u001b[0mv\u001b[0m\u001b[1;33m,\u001b[0m \u001b[0mnum\u001b[0m \u001b[1;33m=\u001b[0m \u001b[0minput\u001b[0m\u001b[1;33m(\u001b[0m\u001b[1;33m)\u001b[0m\u001b[1;33m.\u001b[0m\u001b[0msplit\u001b[0m\u001b[1;33m(\u001b[0m\u001b[1;33m)\u001b[0m\u001b[1;33m\u001b[0m\u001b[1;33m\u001b[0m\u001b[0m\n\u001b[0m\u001b[0;32m     34\u001b[0m         \u001b[0mv\u001b[0m \u001b[1;33m=\u001b[0m \u001b[0mint\u001b[0m\u001b[1;33m(\u001b[0m\u001b[0mv\u001b[0m\u001b[1;33m)\u001b[0m\u001b[1;33m\u001b[0m\u001b[1;33m\u001b[0m\u001b[0m\n\u001b[0;32m     35\u001b[0m     \u001b[0mprint\u001b[0m\u001b[1;33m(\u001b[0m\u001b[0mfine_sum\u001b[0m\u001b[1;33m)\u001b[0m\u001b[1;33m\u001b[0m\u001b[1;33m\u001b[0m\u001b[0m\n",
      "\u001b[1;31mValueError\u001b[0m: not enough values to unpack (expected 2, got 1)"
     ]
    }
   ],
   "source": [
    "def is_chief_detected(num):\n",
    "    return num == \"A555AA\"\n",
    "\n",
    "\n",
    "def calculate_fine(num):\n",
    "    fine = 0\n",
    "    if is_super_number(num):\n",
    "        fine = 1000\n",
    "    if is_good_number(num):\n",
    "        fine = 500\n",
    "    else:\n",
    "        fine = 100\n",
    "    return fine\n",
    "\n",
    "\n",
    "def is_super_number(num):\n",
    "    return num[1] == num[2] == num[3]\n",
    "\n",
    "\n",
    "def is_good_number(num):\n",
    "    return num[1] == num[2] or num[2] == num[3] or num[3] == num[1]\n",
    "\n",
    "\n",
    "if __name__ == \"__main__\":\n",
    "    fine_sum = 0  # money\n",
    "    v, num = input().split()  # car speed and registration number\n",
    "    v = int(v)\n",
    "    while not is_chief_detected(num):\n",
    "        if v > 60:\n",
    "            print(f'fine_sum: {fine_sum}')\n",
    "            fine_sum += calculate_fine(num)\n",
    "            print(f'fine_sum: {fine_sum}')\n",
    "        v, num = input().split()\n",
    "        v = int(v)\n",
    "    print(fine_sum)"
   ]
  },
  {
   "cell_type": "code",
   "execution_count": null,
   "metadata": {},
   "outputs": [],
   "source": []
  },
  {
   "cell_type": "code",
   "execution_count": null,
   "metadata": {},
   "outputs": [],
   "source": []
  }
 ],
 "metadata": {
  "kernelspec": {
   "display_name": "Python 3",
   "language": "python",
   "name": "python3"
  },
  "language_info": {
   "codemirror_mode": {
    "name": "ipython",
    "version": 3
   },
   "file_extension": ".py",
   "mimetype": "text/x-python",
   "name": "python",
   "nbconvert_exporter": "python",
   "pygments_lexer": "ipython3",
   "version": "3.8.3"
  }
 },
 "nbformat": 4,
 "nbformat_minor": 4
}
