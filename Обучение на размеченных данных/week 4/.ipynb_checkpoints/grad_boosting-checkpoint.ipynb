{
 "cells": [
  {
   "cell_type": "markdown",
   "metadata": {},
   "source": [
    "# Градиентный бустинг своими руками\n",
    "\n",
    "**Внимание:** в тексте задания произошли изменения - поменялось число деревьев (теперь 50), правило изменения величины шага в задании 3 и добавился параметр `random_state` у решающего дерева. Правильные ответы не поменялись, но теперь их проще получить. Также исправлена опечатка в функции `gbm_predict`.\n",
    "\n",
    "В этом задании будет использоваться датасет `boston` из `sklearn.datasets`. Оставьте последние 25% объектов для контроля качества, разделив `X` и `y` на `X_train`, `y_train` и `X_test`, `y_test`.\n",
    "\n",
    "Целью задания будет реализовать простой вариант градиентного бустинга над регрессионными деревьями для случая квадратичной функции потерь."
   ]
  },
  {
   "cell_type": "code",
   "execution_count": 63,
   "metadata": {},
   "outputs": [],
   "source": [
    "import sklearn.datasets\n",
    "\n",
    "data = sklearn.datasets.load_boston()\n",
    "\n",
    "X = data['data']\n",
    "y = data['target']\n",
    "\n",
    "from sklearn.model_selection import train_test_split\n",
    "\n",
    "(X_train, X_test, y_train, y_test) = train_test_split(X, y, test_size = 0.25, shuffle = False)"
   ]
  },
  {
   "cell_type": "markdown",
   "metadata": {},
   "source": [
    "## Задание 1\n",
    "\n",
    "Как вы уже знаете из лекций, **бустинг** - это метод построения композиций базовых алгоритмов с помощью последовательного добавления к текущей композиции нового алгоритма с некоторым коэффициентом. \n",
    "\n",
    "Градиентный бустинг обучает каждый новый алгоритм так, чтобы он приближал антиградиент ошибки по ответам композиции на обучающей выборке. Аналогично минимизации функций методом градиентного спуска, в градиентном бустинге мы подправляем композицию, изменяя алгоритм в направлении антиградиента ошибки.\n",
    "\n",
    "Воспользуйтесь формулой из лекций, задающей ответы на обучающей выборке, на которые нужно обучать новый алгоритм (фактически это лишь чуть более подробно расписанный градиент от ошибки), и получите частный ее случай, если функция потерь `L` - квадрат отклонения ответа композиции `a(x)` от правильного ответа `y` на данном `x`.\n",
    "\n",
    "Если вы давно не считали производную самостоятельно, вам поможет таблица производных элементарных функций (которую несложно найти в интернете) и правило дифференцирования сложной функции. После дифференцирования квадрата у вас возникнет множитель 2 — т.к. нам все равно предстоит выбирать коэффициент, с которым будет добавлен новый базовый алгоритм, проигноируйте этот множитель при дальнейшем построении алгоритма."
   ]
  },
  {
   "cell_type": "code",
   "execution_count": 64,
   "metadata": {},
   "outputs": [],
   "source": [
    "def s_i(y_true, trees_preds):\n",
    "    s = [(y_true - pred) for y_true, pred in zip(y_true, trees_preds)]\n",
    "    return s"
   ]
  },
  {
   "cell_type": "markdown",
   "metadata": {},
   "source": [
    "## Задание 2\n",
    "\n",
    "Заведите массив для объектов `DecisionTreeRegressor` (будем их использовать в качестве базовых алгоритмов) и для вещественных чисел (это будут коэффициенты перед базовыми алгоритмами). \n",
    "\n",
    "В цикле от обучите последовательно 50 решающих деревьев с параметрами `max_depth=5` и `random_state=42` (остальные параметры - по умолчанию). В бустинге зачастую используются сотни и тысячи деревьев, но мы ограничимся 50, чтобы алгоритм работал быстрее, и его было проще отлаживать (т.к. цель задания разобраться, как работает метод). Каждое дерево должно обучаться на одном и том же множестве объектов, но ответы, которые учится прогнозировать дерево, будут меняться в соответствие с полученным в задании 1 правилом. \n",
    "\n",
    "Попробуйте для начала всегда брать коэффициент равным 0.9. Обычно оправдано выбирать коэффициент значительно меньшим - порядка 0.05 или 0.1, но т.к. в нашем учебном примере на стандартном датасете будет всего 50 деревьев, возьмем для начала шаг побольше.\n",
    "\n",
    "В процессе реализации обучения вам потребуется функция, которая будет вычислять прогноз построенной на данный момент композиции деревьев на выборке `X`:\n",
    "\n",
    "```\n",
    "def gbm_predict(X):\n",
    "    return [sum([coeff * algo.predict([x])[0] for algo, coeff in zip(base_algorithms_list, coefficients_list)]) for x in X]\n",
    "(считаем, что base_algorithms_list - список с базовыми алгоритмами, coefficients_list - список с коэффициентами перед алгоритмами)\n",
    "```\n",
    "\n",
    "Эта же функция поможет вам получить прогноз на контрольной выборке и оценить качество работы вашего алгоритма с помощью `mean_squared_error` в `sklearn.metrics`. \n",
    "\n",
    "Возведите результат в степень 0.5, чтобы получить `RMSE`. Полученное значение `RMSE` — **ответ в пункте 2**."
   ]
  },
  {
   "cell_type": "code",
   "execution_count": 124,
   "metadata": {
    "scrolled": true
   },
   "outputs": [
    {
     "name": "stdout",
     "output_type": "stream",
     "text": [
      "i = 0, 1, RMSE: train = 3.5116385715360714, test: 4.258124603131531\n",
      "i = 1, 2, RMSE: train = 1.772466187490456, test: 4.671153714252575\n",
      "i = 2, 3, RMSE: train = 1.4574139766043874, test: 4.902307279003964\n",
      "i = 3, 4, RMSE: train = 1.185065062142989, test: 4.964147618734462\n",
      "i = 4, 5, RMSE: train = 1.0222305432705443, test: 5.20526450047539\n",
      "i = 5, 6, RMSE: train = 0.819647879734825, test: 5.135565602127196\n",
      "i = 6, 7, RMSE: train = 0.7067676952827874, test: 5.240746955112687\n",
      "i = 7, 8, RMSE: train = 0.5934492790645459, test: 5.289270262665005\n",
      "i = 8, 9, RMSE: train = 0.5375799773636089, test: 5.474743913112658\n",
      "i = 9, 10, RMSE: train = 0.44547194621629915, test: 5.487351059181247\n",
      "i = 10, 11, RMSE: train = 0.3820670062886278, test: 5.493005009464344\n",
      "i = 11, 12, RMSE: train = 0.3323473998486623, test: 5.486541185059441\n",
      "i = 12, 13, RMSE: train = 0.2978774482530573, test: 5.485319403332965\n",
      "i = 13, 14, RMSE: train = 0.2696672438469169, test: 5.491142418867942\n",
      "i = 14, 15, RMSE: train = 0.23699339352390267, test: 5.4234289382521625\n",
      "i = 15, 16, RMSE: train = 0.206523809646849, test: 5.455189053902552\n",
      "i = 16, 17, RMSE: train = 0.16890467223003824, test: 5.453903636946008\n",
      "i = 17, 18, RMSE: train = 0.14349036224760234, test: 5.442535087357115\n",
      "i = 18, 19, RMSE: train = 0.13027342587737023, test: 5.451577011033647\n",
      "i = 19, 20, RMSE: train = 0.10502612828064337, test: 5.450957836386989\n",
      "i = 20, 21, RMSE: train = 0.091835715458719, test: 5.455454044759808\n",
      "i = 21, 22, RMSE: train = 0.08170001977685142, test: 5.452830834182104\n",
      "i = 22, 23, RMSE: train = 0.07800240835309682, test: 5.4534823020413565\n",
      "i = 23, 24, RMSE: train = 0.06689039307289181, test: 5.456955189013637\n",
      "i = 24, 25, RMSE: train = 0.05980529159709848, test: 5.4585969199592395\n",
      "i = 25, 26, RMSE: train = 0.049877338057026765, test: 5.4597046298350955\n",
      "i = 26, 27, RMSE: train = 0.04382632103207544, test: 5.458441954443328\n",
      "i = 27, 28, RMSE: train = 0.04031975521855726, test: 5.459544166421452\n",
      "i = 28, 29, RMSE: train = 0.039517045757821584, test: 5.474640780590228\n",
      "i = 29, 30, RMSE: train = 0.034377234247791814, test: 5.455978129276078\n",
      "i = 30, 31, RMSE: train = 0.02839183947273101, test: 5.456647037889836\n",
      "i = 31, 32, RMSE: train = 0.025739217109597194, test: 5.456688163206112\n",
      "i = 32, 33, RMSE: train = 0.02409503643396842, test: 5.45505870311329\n",
      "i = 33, 34, RMSE: train = 0.022012614246470778, test: 5.45488925048601\n",
      "i = 34, 35, RMSE: train = 0.018950855313252163, test: 5.454706562939971\n",
      "i = 35, 36, RMSE: train = 0.015566920378900373, test: 5.45572218652421\n",
      "i = 36, 37, RMSE: train = 0.014506845742157755, test: 5.4571913656283115\n",
      "i = 37, 38, RMSE: train = 0.012254641891079946, test: 5.456554727051713\n",
      "i = 38, 39, RMSE: train = 0.010508538644639152, test: 5.454952037148743\n",
      "i = 39, 40, RMSE: train = 0.009767462057459599, test: 5.455773037269911\n",
      "i = 40, 41, RMSE: train = 0.008107473713643353, test: 5.455668105961864\n",
      "i = 41, 42, RMSE: train = 0.0071865081669822565, test: 5.455288876875153\n",
      "i = 42, 43, RMSE: train = 0.006053912663417077, test: 5.454690240227689\n",
      "i = 43, 44, RMSE: train = 0.005541731371651648, test: 5.454942493332565\n",
      "i = 44, 45, RMSE: train = 0.004607366485013652, test: 5.455052873471142\n",
      "i = 45, 46, RMSE: train = 0.0037073326933552094, test: 5.455672101390544\n",
      "i = 46, 47, RMSE: train = 0.00339727473532958, test: 5.455659629260783\n",
      "i = 47, 48, RMSE: train = 0.0031750408237094675, test: 5.4557296463990905\n",
      "i = 48, 49, RMSE: train = 0.002700348418708605, test: 5.455680205433288\n",
      "i = 49, 50, RMSE: train = 0.002584474299324061, test: 5.455565103009402\n"
     ]
    }
   ],
   "source": [
    "from sklearn.tree import DecisionTreeRegressor\n",
    "from sklearn.metrics import mean_squared_error\n",
    "\n",
    "base_algorithms_list = []\n",
    "coefficients_list = []\n",
    "lr = 0.9\n",
    "\n",
    "def gbm_predict(X):\n",
    "    return [sum([coeff * algo.predict([x])[0] for algo, coeff in zip(base_algorithms_list, coefficients_list)]) for x in X]\n",
    "\n",
    "y_train_i = y_train\n",
    "\n",
    "for i in range(50):\n",
    "    dt = DecisionTreeRegressor(max_depth=5, random_state=42)\n",
    "    dt.fit(X_train, y_train_i)\n",
    "    base_algorithms_list.append(dt)\n",
    "    coefficients_list.append(lr)\n",
    "    y_train_i = y_train - gbm_predict(X_train)\n",
    "    rmse_train = mean_squared_error(y_train, gbm_predict(X_train)) ** 0.5\n",
    "    rmse_test = mean_squared_error(y_test, gbm_predict(X_test)) ** 0.5\n",
    "    print(f'i = {i}, {len(base_algorithms_list)}, RMSE: train = {rmse_train}, test: {rmse_test}')"
   ]
  },
  {
   "cell_type": "code",
   "execution_count": 125,
   "metadata": {},
   "outputs": [],
   "source": [
    "def write_answer_2(ans):\n",
    "    with open(\"ans2_2.txt\", \"w\") as fout:\n",
    "        fout.write(str(ans))"
   ]
  },
  {
   "cell_type": "code",
   "execution_count": 126,
   "metadata": {},
   "outputs": [],
   "source": [
    "write_answer_2(rmse_test)"
   ]
  },
  {
   "cell_type": "markdown",
   "metadata": {},
   "source": [
    "## Задание 3\n",
    "\n",
    "Вас может также беспокоить, что двигаясь с постоянным шагом, вблизи минимума ошибки ответы на обучающей выборке меняются слишком резко, перескакивая через минимум. \n",
    "\n",
    "Попробуйте уменьшать вес перед каждым алгоритмом с каждой следующей итерацией по формуле `0.9 / (1.0 + i)`, где `i` - номер итерации (от 0 до 49). Используйте качество работы алгоритма как **ответ в пункте 3**. \n",
    "\n",
    "В реальности часто применяется следующая стратегия выбора шага: как только выбран алгоритм, подберем коэффициент перед ним численным методом оптимизации таким образом, чтобы отклонение от правильных ответов было минимальным. Мы не будем предлагать вам реализовать это для выполнения задания, но рекомендуем попробовать разобраться с такой стратегией и реализовать ее при случае для себя."
   ]
  },
  {
   "cell_type": "code",
   "execution_count": 127,
   "metadata": {
    "scrolled": true
   },
   "outputs": [
    {
     "name": "stdout",
     "output_type": "stream",
     "text": [
      "i = 0, 1, RMSE: train = 3.5116385715360714, test: 4.258124603131531\n",
      "i = 1, 2, RMSE: train = 2.4200939073722108, test: 4.411594948336074\n",
      "i = 2, 3, RMSE: train = 2.0062225657199066, test: 4.391183171661546\n",
      "i = 3, 4, RMSE: train = 1.8052575199957286, test: 4.458775073285299\n",
      "i = 4, 5, RMSE: train = 1.6730831800335009, test: 4.498661031729782\n",
      "i = 5, 6, RMSE: train = 1.5574250270731436, test: 4.5168152101676124\n",
      "i = 6, 7, RMSE: train = 1.4762247621979738, test: 4.550526944390747\n",
      "i = 7, 8, RMSE: train = 1.411775350235842, test: 4.609092468715132\n",
      "i = 8, 9, RMSE: train = 1.3490630924629867, test: 4.6339875745933385\n",
      "i = 9, 10, RMSE: train = 1.303472304725146, test: 4.651558505714779\n",
      "i = 10, 11, RMSE: train = 1.2647753975986, test: 4.659211687810463\n",
      "i = 11, 12, RMSE: train = 1.2419922311289875, test: 4.665846192244087\n",
      "i = 12, 13, RMSE: train = 1.2200439952300144, test: 4.687756339977889\n",
      "i = 13, 14, RMSE: train = 1.1926398246403378, test: 4.705212386904845\n",
      "i = 14, 15, RMSE: train = 1.1770673476179931, test: 4.70888638920925\n",
      "i = 15, 16, RMSE: train = 1.1598306828299345, test: 4.727160820532567\n",
      "i = 16, 17, RMSE: train = 1.1384768543622275, test: 4.738601041184404\n",
      "i = 17, 18, RMSE: train = 1.1214790032866762, test: 4.7434294144854805\n",
      "i = 18, 19, RMSE: train = 1.1092813218714423, test: 4.747957771408691\n",
      "i = 19, 20, RMSE: train = 1.0906577591804238, test: 4.754535803819599\n",
      "i = 20, 21, RMSE: train = 1.0741774556748842, test: 4.760702807935853\n",
      "i = 21, 22, RMSE: train = 1.0596912770508262, test: 4.76469042919606\n",
      "i = 22, 23, RMSE: train = 1.0523893190181057, test: 4.764828870587975\n",
      "i = 23, 24, RMSE: train = 1.0457527813054621, test: 4.763080541850576\n",
      "i = 24, 25, RMSE: train = 1.0355147152833428, test: 4.763091173078234\n",
      "i = 25, 26, RMSE: train = 1.0293793494722068, test: 4.762268473295419\n",
      "i = 26, 27, RMSE: train = 1.0234483153139344, test: 4.758055256544697\n",
      "i = 27, 28, RMSE: train = 1.0180823464768531, test: 4.768499657813316\n",
      "i = 28, 29, RMSE: train = 1.0080586516128365, test: 4.7718046637409675\n",
      "i = 29, 30, RMSE: train = 1.0033685181635614, test: 4.780389023483234\n",
      "i = 30, 31, RMSE: train = 0.9990612946079998, test: 4.7765763172358175\n",
      "i = 31, 32, RMSE: train = 0.9949050167451774, test: 4.783744654359199\n",
      "i = 32, 33, RMSE: train = 0.986130052064512, test: 4.7865280216634964\n",
      "i = 33, 34, RMSE: train = 0.9796703526020202, test: 4.788442367935862\n",
      "i = 34, 35, RMSE: train = 0.9767992493648655, test: 4.787212053443569\n",
      "i = 35, 36, RMSE: train = 0.9727823431844534, test: 4.792422462196972\n",
      "i = 36, 37, RMSE: train = 0.9687811110710539, test: 4.793468730432272\n",
      "i = 37, 38, RMSE: train = 0.9655675730624077, test: 4.7994641171508885\n",
      "i = 38, 39, RMSE: train = 0.9620215694625577, test: 4.804033058481719\n",
      "i = 39, 40, RMSE: train = 0.9574016416871094, test: 4.8038723728476995\n",
      "i = 40, 41, RMSE: train = 0.9551179008876733, test: 4.803086837269195\n",
      "i = 41, 42, RMSE: train = 0.9500995036831913, test: 4.804028978406079\n",
      "i = 42, 43, RMSE: train = 0.947464487719663, test: 4.805470455205758\n",
      "i = 43, 44, RMSE: train = 0.945422105910566, test: 4.804790977053986\n",
      "i = 44, 45, RMSE: train = 0.9412922881799953, test: 4.803709717063459\n",
      "i = 45, 46, RMSE: train = 0.938193798211538, test: 4.804773448498893\n",
      "i = 46, 47, RMSE: train = 0.9357715877844583, test: 4.808927271733807\n",
      "i = 47, 48, RMSE: train = 0.9332632908462132, test: 4.808240835910818\n",
      "i = 48, 49, RMSE: train = 0.93046276475705, test: 4.80887898153513\n",
      "i = 49, 50, RMSE: train = 0.9282663207292292, test: 4.812550945781193\n"
     ]
    }
   ],
   "source": [
    "base_algorithms_list = []\n",
    "coefficients_list = []\n",
    "lr = 0.9\n",
    "\n",
    "def gbm_predict(X):\n",
    "    return [sum([coeff * algo.predict([x])[0] for algo, coeff in zip(base_algorithms_list, coefficients_list)]) for x in X]\n",
    "\n",
    "y_train_i = y_train\n",
    "\n",
    "for i in range(50):\n",
    "    dt = DecisionTreeRegressor(max_depth=5, random_state=42)\n",
    "    dt.fit(X_train, y_train_i)\n",
    "    base_algorithms_list.append(dt)\n",
    "    coefficients_list.append(lr / (1.0 + i))\n",
    "    y_train_i = y_train - gbm_predict(X_train)\n",
    "    rmse_train = mean_squared_error(y_train, gbm_predict(X_train)) ** 0.5\n",
    "    rmse_test = mean_squared_error(y_test, gbm_predict(X_test)) ** 0.5\n",
    "    print(f'i = {i}, {len(base_algorithms_list)}, RMSE: train = {rmse_train}, test: {rmse_test}')"
   ]
  },
  {
   "cell_type": "code",
   "execution_count": 128,
   "metadata": {},
   "outputs": [],
   "source": [
    "def write_answer_3(ans):\n",
    "    with open(\"ans3_2.txt\", \"w\") as fout:\n",
    "        fout.write(str(ans))"
   ]
  },
  {
   "cell_type": "code",
   "execution_count": 129,
   "metadata": {},
   "outputs": [],
   "source": [
    "write_answer_3(rmse_test)"
   ]
  },
  {
   "cell_type": "markdown",
   "metadata": {},
   "source": [
    "## Задание 4\n",
    "\n",
    "Реализованный вами метод - градиентный бустинг над деревьями - очень популярен в машинном обучении. Он представлен как в самой библиотеке `sklearn`, так и в сторонней библиотеке `XGBoost`, которая имеет свой питоновский интерфейс. На практике `XGBoost` работает заметно лучше `GradientBoostingRegressor` из `sklearn`, но для этого задания вы можете использовать любую реализацию. \n",
    "\n",
    "Исследуйте, переобучается ли градиентный бустинг с ростом числа итераций (и подумайте, почему), а также с ростом глубины деревьев. На основе наблюдений выпишите через пробел номера правильных из приведенных ниже утверждений в порядке возрастания номера (это будет **ответ в п.4**):\n",
    "\n",
    "    1. С увеличением числа деревьев, начиная с некоторого момента, качество работы градиентного бустинга не меняется существенно.\n",
    "\n",
    "    2. С увеличением числа деревьев, начиная с некоторого момента, градиентный бустинг начинает переобучаться.\n",
    "\n",
    "    3. С ростом глубины деревьев, начиная с некоторого момента, качество работы градиентного бустинга на тестовой выборке начинает ухудшаться.\n",
    "\n",
    "    4. С ростом глубины деревьев, начиная с некоторого момента, качество работы градиентного бустинга перестает существенно изменяться"
   ]
  },
  {
   "cell_type": "code",
   "execution_count": 161,
   "metadata": {
    "scrolled": true
   },
   "outputs": [],
   "source": [
    "from sklearn.ensemble import GradientBoostingRegressor\n",
    "\n",
    "n_ = [n for n in range(1, 3000, 5)]\n",
    "rmse_train = []\n",
    "rmse_test = []\n",
    "for n in n_:\n",
    "    gbr = GradientBoostingRegressor(n_estimators=n)\n",
    "    gbr.fit(X_train, y_train)\n",
    "    rmse_train.append(mean_squared_error(y_train, gbr.predict(X_train)) ** 0.5)\n",
    "    rmse_test.append(mean_squared_error(y_test, gbr.predict(X_test)) ** 0.5) "
   ]
  },
  {
   "cell_type": "code",
   "execution_count": 162,
   "metadata": {
    "scrolled": true
   },
   "outputs": [],
   "source": [
    "import matplotlib\n",
    "from matplotlib import pyplot as plt\n",
    "matplotlib.style.use('ggplot')\n",
    "%matplotlib inline"
   ]
  },
  {
   "cell_type": "code",
   "execution_count": 163,
   "metadata": {},
   "outputs": [
    {
     "data": {
      "text/plain": [
       "[<matplotlib.lines.Line2D at 0x7fde0f516ef0>]"
      ]
     },
     "execution_count": 163,
     "metadata": {},
     "output_type": "execute_result"
    },
    {
     "data": {
      "image/png": "[encoded data removed]",
      "text/plain": [
       "<Figure size 432x288 with 1 Axes>"
      ]
     },
     "metadata": {
      "needs_background": "light"
     },
     "output_type": "display_data"
    }
   ],
   "source": [
    "plt.plot(n_, rmse_train)\n",
    "plt.plot(n_, rmse_test)"
   ]
  },
  {
   "cell_type": "code",
   "execution_count": 164,
   "metadata": {},
   "outputs": [],
   "source": [
    "m_ = [n for n in range(1, 100, 5)]\n",
    "rmse_train = []\n",
    "rmse_test = []\n",
    "for m in m_:\n",
    "    gbr = GradientBoostingRegressor(max_depth=m)\n",
    "    gbr.fit(X_train, y_train)\n",
    "    rmse_train.append(mean_squared_error(y_train, gbr.predict(X_train)) ** 0.5)\n",
    "    rmse_test.append(mean_squared_error(y_test, gbr.predict(X_test)) ** 0.5)"
   ]
  },
  {
   "cell_type": "code",
   "execution_count": 165,
   "metadata": {},
   "outputs": [
    {
     "data": {
      "text/plain": [
       "[<matplotlib.lines.Line2D at 0x7fde07450e48>]"
      ]
     },
     "execution_count": 165,
     "metadata": {},
     "output_type": "execute_result"
    },
    {
     "data": {
      "image/png": "[encoded data removed]",
      "text/plain": [
       "<Figure size 432x288 with 1 Axes>"
      ]
     },
     "metadata": {
      "needs_background": "light"
     },
     "output_type": "display_data"
    }
   ],
   "source": [
    "plt.plot(m_, rmse_train)\n",
    "plt.plot(m_, rmse_test)"
   ]
  },
  {
   "cell_type": "code",
   "execution_count": 155,
   "metadata": {},
   "outputs": [],
   "source": [
    "def write_answer_4(ans):\n",
    "    with open(\"ans4_2.txt\", \"w\") as fout:\n",
    "        fout.write(str(ans))"
   ]
  },
  {
   "cell_type": "code",
   "execution_count": 160,
   "metadata": {},
   "outputs": [],
   "source": [
    "write_answer_4('2 3')"
   ]
  },
  {
   "cell_type": "markdown",
   "metadata": {},
   "source": [
    "## Задание 5\n",
    "\n",
    "Сравните получаемое с помощью градиентного бустинга качество с качеством работы линейной регрессии. \n",
    "\n",
    "Для этого обучите `LinearRegression` из `sklearn.linear_model` (с параметрами по умолчанию) на обучающей выборке и оцените для прогнозов полученного алгоритма на тестовой выборке `RMSE`. Полученное качество - ответ в **пункте 5**. \n",
    "\n",
    "В данном примере качество работы простой модели должно было оказаться хуже, но не стоит забывать, что так бывает не всегда. В заданиях к этому курсу вы еще встретите пример обратной ситуации."
   ]
  },
  {
   "cell_type": "code",
   "execution_count": 168,
   "metadata": {},
   "outputs": [
    {
     "name": "stdout",
     "output_type": "stream",
     "text": [
      "4.573369941127652 8.254979753549161\n"
     ]
    }
   ],
   "source": [
    "from sklearn.linear_model import LinearRegression\n",
    "\n",
    "lr = LinearRegression()\n",
    "lr.fit(X_train, y_train)\n",
    "rmse_train = mean_squared_error(y_train, lr.predict(X_train)) ** 0.5\n",
    "rmse_test = mean_squared_error(y_test, lr.predict(X_test)) ** 0.5\n",
    "print(rmse_train, rmse_test)"
   ]
  },
  {
   "cell_type": "code",
   "execution_count": 169,
   "metadata": {},
   "outputs": [],
   "source": [
    "def write_answer_5(ans):\n",
    "    with open(\"ans5_2.txt\", \"w\") as fout:\n",
    "        fout.write(str(ans))"
   ]
  },
  {
   "cell_type": "code",
   "execution_count": 170,
   "metadata": {},
   "outputs": [],
   "source": [
    "write_answer_5(rmse_test)"
   ]
  },
  {
   "cell_type": "code",
   "execution_count": null,
   "metadata": {},
   "outputs": [],
   "source": []
  }
 ],
 "metadata": {
  "kernelspec": {
   "display_name": "Python 3",
   "language": "python",
   "name": "python3"
  },
  "language_info": {
   "codemirror_mode": {
    "name": "ipython",
    "version": 3
   },
   "file_extension": ".py",
   "mimetype": "text/x-python",
   "name": "python",
   "nbconvert_exporter": "python",
   "pygments_lexer": "ipython3",
   "version": "3.7.3"
  }
 },
 "nbformat": 4,
 "nbformat_minor": 1
}
